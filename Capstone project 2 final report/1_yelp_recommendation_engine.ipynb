{
 "cells": [
  {
   "cell_type": "markdown",
   "metadata": {},
   "source": [
    "<h3> In this notebook, I will try to build a ranking, a content based, and a collaborative filtering recommendation engines using the Yelp data for restaurants. We will try user/user and item/item methods and see how they perform in terms of recommending restaurants"
   ]
  },
  {
   "cell_type": "code",
   "execution_count": 1,
   "metadata": {},
   "outputs": [],
   "source": [
    "import pandas as pd\n",
    "import numpy as np\n",
    "import matplotlib.pyplot as plt\n",
    "import seaborn as sns\n",
    "import scipy\n",
    "from collections import defaultdict\n",
    "from itertools import islice\n",
    "from IPython.display import display\n",
    "from sklearn.metrics.pairwise import pairwise_distances, cosine_similarity\n",
    "from sklearn.preprocessing import LabelEncoder, StandardScaler\n",
    "from sklearn.feature_extraction.text import TfidfVectorizer, CountVectorizer\n",
    "from sklearn.externals import joblib\n",
    "\n",
    "%config InlineBackend.figure_format = 'svg'\n",
    "plt.style.use('seaborn')\n",
    "pd.set_option('display.width', 1000)\n",
    "pd.set_option('max_columns', 60)"
   ]
  },
  {
   "cell_type": "code",
   "execution_count": 2,
   "metadata": {},
   "outputs": [],
   "source": [
    "# Load data\n",
    "restaurants=pd.read_csv('yelp/restaurants_reviews_clean.csv', index_col=0, parse_dates=True)"
   ]
  },
  {
   "cell_type": "code",
   "execution_count": 200,
   "metadata": {},
   "outputs": [
    {
     "data": {
      "text/html": [
       "<div>\n",
       "<style scoped>\n",
       "    .dataframe tbody tr th:only-of-type {\n",
       "        vertical-align: middle;\n",
       "    }\n",
       "\n",
       "    .dataframe tbody tr th {\n",
       "        vertical-align: top;\n",
       "    }\n",
       "\n",
       "    .dataframe thead th {\n",
       "        text-align: right;\n",
       "    }\n",
       "</style>\n",
       "<table border=\"1\" class=\"dataframe\">\n",
       "  <thead>\n",
       "    <tr style=\"text-align: right;\">\n",
       "      <th></th>\n",
       "      <th>business_id</th>\n",
       "      <th>cool</th>\n",
       "      <th>date.1</th>\n",
       "      <th>funny</th>\n",
       "      <th>review_id</th>\n",
       "      <th>stars_x</th>\n",
       "      <th>text</th>\n",
       "      <th>useful</th>\n",
       "      <th>user_id</th>\n",
       "      <th>address</th>\n",
       "      <th>Alcohol</th>\n",
       "      <th>Ambience casual</th>\n",
       "      <th>Ambience classy</th>\n",
       "      <th>Ambience divey</th>\n",
       "      <th>Ambience hipster</th>\n",
       "      <th>Ambience intimate</th>\n",
       "      <th>Ambience romantic</th>\n",
       "      <th>Ambience touristy</th>\n",
       "      <th>Ambience trendy</th>\n",
       "      <th>Ambience upscale</th>\n",
       "      <th>BikeParking</th>\n",
       "      <th>BusinessAcceptsCreditCards</th>\n",
       "      <th>BusinessParking garage</th>\n",
       "      <th>BusinessParking lot</th>\n",
       "      <th>BusinessParking street</th>\n",
       "      <th>BusinessParking valet</th>\n",
       "      <th>BusinessParking validated</th>\n",
       "      <th>Caters</th>\n",
       "      <th>DogsAllowed</th>\n",
       "      <th>GoodForKids</th>\n",
       "      <th>...</th>\n",
       "      <th>name</th>\n",
       "      <th>neighborhood</th>\n",
       "      <th>postal_code</th>\n",
       "      <th>review_count</th>\n",
       "      <th>stars_y</th>\n",
       "      <th>state</th>\n",
       "      <th>Cuisine</th>\n",
       "      <th>Total hours Friday</th>\n",
       "      <th>Total hours Monday</th>\n",
       "      <th>Total hours Saturday</th>\n",
       "      <th>Total hours Sunday</th>\n",
       "      <th>Total hours Thursday</th>\n",
       "      <th>Total hours Tuesday</th>\n",
       "      <th>Total hours Wednesday</th>\n",
       "      <th>Total hours weekdays</th>\n",
       "      <th>Total hours weekends</th>\n",
       "      <th>Friday open at</th>\n",
       "      <th>Friday close at</th>\n",
       "      <th>Monday open at</th>\n",
       "      <th>Monday close at</th>\n",
       "      <th>Saturday open at</th>\n",
       "      <th>Saturday close at</th>\n",
       "      <th>Sunday open at</th>\n",
       "      <th>Sunday close at</th>\n",
       "      <th>Thursday open at</th>\n",
       "      <th>Thursday close at</th>\n",
       "      <th>Tuesday open at</th>\n",
       "      <th>Tuesday close at</th>\n",
       "      <th>Wednesday open at</th>\n",
       "      <th>Wednesday close at</th>\n",
       "    </tr>\n",
       "    <tr>\n",
       "      <th>date</th>\n",
       "      <th></th>\n",
       "      <th></th>\n",
       "      <th></th>\n",
       "      <th></th>\n",
       "      <th></th>\n",
       "      <th></th>\n",
       "      <th></th>\n",
       "      <th></th>\n",
       "      <th></th>\n",
       "      <th></th>\n",
       "      <th></th>\n",
       "      <th></th>\n",
       "      <th></th>\n",
       "      <th></th>\n",
       "      <th></th>\n",
       "      <th></th>\n",
       "      <th></th>\n",
       "      <th></th>\n",
       "      <th></th>\n",
       "      <th></th>\n",
       "      <th></th>\n",
       "      <th></th>\n",
       "      <th></th>\n",
       "      <th></th>\n",
       "      <th></th>\n",
       "      <th></th>\n",
       "      <th></th>\n",
       "      <th></th>\n",
       "      <th></th>\n",
       "      <th></th>\n",
       "      <th></th>\n",
       "      <th></th>\n",
       "      <th></th>\n",
       "      <th></th>\n",
       "      <th></th>\n",
       "      <th></th>\n",
       "      <th></th>\n",
       "      <th></th>\n",
       "      <th></th>\n",
       "      <th></th>\n",
       "      <th></th>\n",
       "      <th></th>\n",
       "      <th></th>\n",
       "      <th></th>\n",
       "      <th></th>\n",
       "      <th></th>\n",
       "      <th></th>\n",
       "      <th></th>\n",
       "      <th></th>\n",
       "      <th></th>\n",
       "      <th></th>\n",
       "      <th></th>\n",
       "      <th></th>\n",
       "      <th></th>\n",
       "      <th></th>\n",
       "      <th></th>\n",
       "      <th></th>\n",
       "      <th></th>\n",
       "      <th></th>\n",
       "      <th></th>\n",
       "      <th></th>\n",
       "    </tr>\n",
       "  </thead>\n",
       "  <tbody>\n",
       "    <tr>\n",
       "      <th>2004-07-22</th>\n",
       "      <td>uz7UbvVUwsg68Rok6kbqRg</td>\n",
       "      <td>0</td>\n",
       "      <td>2004-07-22</td>\n",
       "      <td>0</td>\n",
       "      <td>PbIY2aIyszb6he6J-ey67w</td>\n",
       "      <td>5</td>\n",
       "      <td>Sehr gutes Restaurant, leckeres essen und nett...</td>\n",
       "      <td>0.0</td>\n",
       "      <td>le_brG6cwrzvWdKEGqA7YA</td>\n",
       "      <td>Leonberger Str. 97</td>\n",
       "      <td>full_bar</td>\n",
       "      <td>False</td>\n",
       "      <td>False</td>\n",
       "      <td>NaN</td>\n",
       "      <td>False</td>\n",
       "      <td>False</td>\n",
       "      <td>False</td>\n",
       "      <td>False</td>\n",
       "      <td>False</td>\n",
       "      <td>False</td>\n",
       "      <td>False</td>\n",
       "      <td>True</td>\n",
       "      <td>False</td>\n",
       "      <td>False</td>\n",
       "      <td>False</td>\n",
       "      <td>False</td>\n",
       "      <td>False</td>\n",
       "      <td>NaN</td>\n",
       "      <td>False</td>\n",
       "      <td>False</td>\n",
       "      <td>...</td>\n",
       "      <td>Kashmir</td>\n",
       "      <td>NaN</td>\n",
       "      <td>71229</td>\n",
       "      <td>41.0</td>\n",
       "      <td>4.5</td>\n",
       "      <td>BW</td>\n",
       "      <td>Indian Restaurants</td>\n",
       "      <td>5.5</td>\n",
       "      <td>5.5</td>\n",
       "      <td>5.5</td>\n",
       "      <td>5.5</td>\n",
       "      <td>5.5</td>\n",
       "      <td>5.5</td>\n",
       "      <td>5.5</td>\n",
       "      <td>27.5</td>\n",
       "      <td>11.0</td>\n",
       "      <td>17.3</td>\n",
       "      <td>23.0</td>\n",
       "      <td>17.3</td>\n",
       "      <td>23.0</td>\n",
       "      <td>17.3</td>\n",
       "      <td>23.0</td>\n",
       "      <td>17.3</td>\n",
       "      <td>23.0</td>\n",
       "      <td>17.3</td>\n",
       "      <td>23.0</td>\n",
       "      <td>17.3</td>\n",
       "      <td>23.0</td>\n",
       "      <td>17.3</td>\n",
       "      <td>23.0</td>\n",
       "    </tr>\n",
       "    <tr>\n",
       "      <th>2004-09-15</th>\n",
       "      <td>9X-43jnj6-6ZBuBdFm7BLA</td>\n",
       "      <td>0</td>\n",
       "      <td>2004-09-15</td>\n",
       "      <td>0</td>\n",
       "      <td>03B9-gqbeGoMmPJbNzNT5w</td>\n",
       "      <td>2</td>\n",
       "      <td>Viel Auswahl täuscht über die wahre Tatsache h...</td>\n",
       "      <td>0.0</td>\n",
       "      <td>w_6miJytUt6z8oRkGjVG-A</td>\n",
       "      <td>Rosensteinstr. 22</td>\n",
       "      <td>full_bar</td>\n",
       "      <td>True</td>\n",
       "      <td>False</td>\n",
       "      <td>NaN</td>\n",
       "      <td>False</td>\n",
       "      <td>False</td>\n",
       "      <td>False</td>\n",
       "      <td>False</td>\n",
       "      <td>False</td>\n",
       "      <td>False</td>\n",
       "      <td>True</td>\n",
       "      <td>True</td>\n",
       "      <td>True</td>\n",
       "      <td>False</td>\n",
       "      <td>True</td>\n",
       "      <td>False</td>\n",
       "      <td>False</td>\n",
       "      <td>True</td>\n",
       "      <td>True</td>\n",
       "      <td>True</td>\n",
       "      <td>...</td>\n",
       "      <td>Woody's</td>\n",
       "      <td>NaN</td>\n",
       "      <td>70191</td>\n",
       "      <td>91.0</td>\n",
       "      <td>3.0</td>\n",
       "      <td>BW</td>\n",
       "      <td>American Bars Cocktail Nightlife Restaurants T...</td>\n",
       "      <td>10.0</td>\n",
       "      <td>8.0</td>\n",
       "      <td>11.0</td>\n",
       "      <td>11.0</td>\n",
       "      <td>8.0</td>\n",
       "      <td>8.0</td>\n",
       "      <td>8.0</td>\n",
       "      <td>42.0</td>\n",
       "      <td>22.0</td>\n",
       "      <td>17.0</td>\n",
       "      <td>27.0</td>\n",
       "      <td>17.0</td>\n",
       "      <td>25.0</td>\n",
       "      <td>16.0</td>\n",
       "      <td>27.0</td>\n",
       "      <td>14.0</td>\n",
       "      <td>25.0</td>\n",
       "      <td>17.0</td>\n",
       "      <td>25.0</td>\n",
       "      <td>17.0</td>\n",
       "      <td>25.0</td>\n",
       "      <td>17.0</td>\n",
       "      <td>25.0</td>\n",
       "    </tr>\n",
       "  </tbody>\n",
       "</table>\n",
       "<p>2 rows × 90 columns</p>\n",
       "</div>"
      ],
      "text/plain": [
       "                       business_id  cool      date.1  funny               review_id  stars_x                                               text  useful                 user_id             address   Alcohol Ambience casual Ambience classy Ambience divey Ambience hipster Ambience intimate Ambience romantic Ambience touristy Ambience trendy Ambience upscale BikeParking BusinessAcceptsCreditCards BusinessParking garage BusinessParking lot BusinessParking street BusinessParking valet  \\\n",
       "date                                                                                                                                                                                                                                                                                                                                                                                                                                                                                                  \n",
       "2004-07-22  uz7UbvVUwsg68Rok6kbqRg     0  2004-07-22      0  PbIY2aIyszb6he6J-ey67w        5  Sehr gutes Restaurant, leckeres essen und nett...     0.0  le_brG6cwrzvWdKEGqA7YA  Leonberger Str. 97  full_bar           False           False            NaN            False             False             False             False           False            False       False                       True                  False               False                  False                 False   \n",
       "2004-09-15  9X-43jnj6-6ZBuBdFm7BLA     0  2004-09-15      0  03B9-gqbeGoMmPJbNzNT5w        2  Viel Auswahl täuscht über die wahre Tatsache h...     0.0  w_6miJytUt6z8oRkGjVG-A   Rosensteinstr. 22  full_bar            True           False            NaN            False             False             False             False           False            False        True                       True                   True               False                   True                 False   \n",
       "\n",
       "           BusinessParking validated Caters DogsAllowed GoodForKids         ...             name neighborhood postal_code review_count stars_y state                                            Cuisine Total hours Friday Total hours Monday Total hours Saturday Total hours Sunday Total hours Thursday  Total hours Tuesday Total hours Wednesday Total hours weekdays Total hours weekends Friday open at Friday close at Monday open at Monday close at Saturday open at Saturday close at Sunday open at  \\\n",
       "date                                                                        ...                                                                                                                                                                                                                                                                                                                                                                                                                                   \n",
       "2004-07-22                     False    NaN       False       False         ...          Kashmir          NaN       71229         41.0     4.5    BW                                 Indian Restaurants                5.5                5.5                  5.5                5.5                  5.5                  5.5                   5.5                 27.5                 11.0           17.3            23.0           17.3            23.0             17.3              23.0           17.3   \n",
       "2004-09-15                     False   True        True        True         ...          Woody's          NaN       70191         91.0     3.0    BW  American Bars Cocktail Nightlife Restaurants T...               10.0                8.0                 11.0               11.0                  8.0                  8.0                   8.0                 42.0                 22.0           17.0            27.0           17.0            25.0             16.0              27.0           14.0   \n",
       "\n",
       "           Sunday close at Thursday open at Thursday close at Tuesday open at  Tuesday close at  Wednesday open at  Wednesday close at  \n",
       "date                                                                                                                                    \n",
       "2004-07-22            23.0             17.3              23.0            17.3              23.0               17.3                23.0  \n",
       "2004-09-15            25.0             17.0              25.0            17.0              25.0               17.0                25.0  \n",
       "\n",
       "[2 rows x 90 columns]"
      ]
     },
     "execution_count": 200,
     "metadata": {},
     "output_type": "execute_result"
    }
   ],
   "source": [
    "restaurants.head(2)"
   ]
  },
  {
   "cell_type": "markdown",
   "metadata": {},
   "source": [
    "<b style='font-size:200%;'>1. A new ranking based on average star ratings and number of reviews.</b>"
   ]
  },
  {
   "cell_type": "markdown",
   "metadata": {},
   "source": [
    "I will take two factors into account: average star rating and number of reviews for a particular restaurant. First I will adjust star rating based on two things: date and the user evaluated by how many reviews the user has made when he made that star rating. The reasonings are: if a rating is too old, it won't have as much impact as a rating that is more recent. For the user, I will give more weight to ones who have made more reviews than ones who have made less reviews. \n",
    "The number of reviews a restaurant has received is also a reflection of the restaurants popularity so we will factor it in when calculating final ranking."
   ]
  },
  {
   "cell_type": "code",
   "execution_count": 201,
   "metadata": {},
   "outputs": [],
   "source": [
    "# First adjusted each rating by the date and the user who made the rating\n",
    "# Most current year will receive a 1 as a cofactor and other years will receive a value between 0 and 1 based on how far away\n",
    "# they are from the current year\n",
    "rank1_df=restaurants.copy()[['name', 'stars_x', 'review_count', 'address', 'postal_code']]"
   ]
  },
  {
   "cell_type": "code",
   "execution_count": 202,
   "metadata": {},
   "outputs": [
    {
     "data": {
      "text/html": [
       "<div>\n",
       "<style scoped>\n",
       "    .dataframe tbody tr th:only-of-type {\n",
       "        vertical-align: middle;\n",
       "    }\n",
       "\n",
       "    .dataframe tbody tr th {\n",
       "        vertical-align: top;\n",
       "    }\n",
       "\n",
       "    .dataframe thead th {\n",
       "        text-align: right;\n",
       "    }\n",
       "</style>\n",
       "<table border=\"1\" class=\"dataframe\">\n",
       "  <thead>\n",
       "    <tr style=\"text-align: right;\">\n",
       "      <th></th>\n",
       "      <th>name</th>\n",
       "      <th>stars_x</th>\n",
       "      <th>review_count</th>\n",
       "      <th>address</th>\n",
       "      <th>postal_code</th>\n",
       "    </tr>\n",
       "    <tr>\n",
       "      <th>date</th>\n",
       "      <th></th>\n",
       "      <th></th>\n",
       "      <th></th>\n",
       "      <th></th>\n",
       "      <th></th>\n",
       "    </tr>\n",
       "  </thead>\n",
       "  <tbody>\n",
       "    <tr>\n",
       "      <th>2004-07-22</th>\n",
       "      <td>Kashmir</td>\n",
       "      <td>5</td>\n",
       "      <td>41.0</td>\n",
       "      <td>Leonberger Str. 97</td>\n",
       "      <td>71229</td>\n",
       "    </tr>\n",
       "    <tr>\n",
       "      <th>2004-09-15</th>\n",
       "      <td>Woody's</td>\n",
       "      <td>2</td>\n",
       "      <td>91.0</td>\n",
       "      <td>Rosensteinstr. 22</td>\n",
       "      <td>70191</td>\n",
       "    </tr>\n",
       "    <tr>\n",
       "      <th>2004-10-12</th>\n",
       "      <td>La Bamba</td>\n",
       "      <td>5</td>\n",
       "      <td>18.0</td>\n",
       "      <td>606 S 6th St</td>\n",
       "      <td>61820</td>\n",
       "    </tr>\n",
       "  </tbody>\n",
       "</table>\n",
       "</div>"
      ],
      "text/plain": [
       "                name  stars_x  review_count             address postal_code\n",
       "date                                                                       \n",
       "2004-07-22   Kashmir        5          41.0  Leonberger Str. 97       71229\n",
       "2004-09-15   Woody's        2          91.0   Rosensteinstr. 22       70191\n",
       "2004-10-12  La Bamba        5          18.0        606 S 6th St       61820"
      ]
     },
     "execution_count": 202,
     "metadata": {},
     "output_type": "execute_result"
    }
   ],
   "source": [
    "rank1_df.head(3)"
   ]
  },
  {
   "cell_type": "code",
   "execution_count": 203,
   "metadata": {},
   "outputs": [
    {
     "data": {
      "text/plain": [
       "3540134"
      ]
     },
     "execution_count": 203,
     "metadata": {},
     "output_type": "execute_result"
    }
   ],
   "source": [
    "len(rank1_df)"
   ]
  },
  {
   "cell_type": "code",
   "execution_count": 62,
   "metadata": {},
   "outputs": [],
   "source": [
    "#6-23-18\n",
    "rank1_df.to_csv('rank_df.csv')"
   ]
  },
  {
   "cell_type": "code",
   "execution_count": 204,
   "metadata": {},
   "outputs": [],
   "source": [
    "rank1_df['year']=rank1_df.index.year"
   ]
  },
  {
   "cell_type": "code",
   "execution_count": 205,
   "metadata": {},
   "outputs": [
    {
     "data": {
      "text/html": [
       "<div>\n",
       "<style scoped>\n",
       "    .dataframe tbody tr th:only-of-type {\n",
       "        vertical-align: middle;\n",
       "    }\n",
       "\n",
       "    .dataframe tbody tr th {\n",
       "        vertical-align: top;\n",
       "    }\n",
       "\n",
       "    .dataframe thead th {\n",
       "        text-align: right;\n",
       "    }\n",
       "</style>\n",
       "<table border=\"1\" class=\"dataframe\">\n",
       "  <thead>\n",
       "    <tr style=\"text-align: right;\">\n",
       "      <th></th>\n",
       "      <th>name</th>\n",
       "      <th>stars_x</th>\n",
       "      <th>review_count</th>\n",
       "      <th>address</th>\n",
       "      <th>postal_code</th>\n",
       "      <th>year</th>\n",
       "    </tr>\n",
       "    <tr>\n",
       "      <th>date</th>\n",
       "      <th></th>\n",
       "      <th></th>\n",
       "      <th></th>\n",
       "      <th></th>\n",
       "      <th></th>\n",
       "      <th></th>\n",
       "    </tr>\n",
       "  </thead>\n",
       "  <tbody>\n",
       "    <tr>\n",
       "      <th>2004-07-22</th>\n",
       "      <td>Kashmir</td>\n",
       "      <td>5</td>\n",
       "      <td>41.0</td>\n",
       "      <td>Leonberger Str. 97</td>\n",
       "      <td>71229</td>\n",
       "      <td>2004</td>\n",
       "    </tr>\n",
       "    <tr>\n",
       "      <th>2004-09-15</th>\n",
       "      <td>Woody's</td>\n",
       "      <td>2</td>\n",
       "      <td>91.0</td>\n",
       "      <td>Rosensteinstr. 22</td>\n",
       "      <td>70191</td>\n",
       "      <td>2004</td>\n",
       "    </tr>\n",
       "    <tr>\n",
       "      <th>2004-10-12</th>\n",
       "      <td>La Bamba</td>\n",
       "      <td>5</td>\n",
       "      <td>18.0</td>\n",
       "      <td>606 S 6th St</td>\n",
       "      <td>61820</td>\n",
       "      <td>2004</td>\n",
       "    </tr>\n",
       "  </tbody>\n",
       "</table>\n",
       "</div>"
      ],
      "text/plain": [
       "                name  stars_x  review_count             address postal_code  year\n",
       "date                                                                             \n",
       "2004-07-22   Kashmir        5          41.0  Leonberger Str. 97       71229  2004\n",
       "2004-09-15   Woody's        2          91.0   Rosensteinstr. 22       70191  2004\n",
       "2004-10-12  La Bamba        5          18.0        606 S 6th St       61820  2004"
      ]
     },
     "execution_count": 205,
     "metadata": {},
     "output_type": "execute_result"
    }
   ],
   "source": [
    "rank1_df.head(3)"
   ]
  },
  {
   "cell_type": "code",
   "execution_count": 206,
   "metadata": {},
   "outputs": [],
   "source": [
    "max_year=rank1_df['year'].max()"
   ]
  },
  {
   "cell_type": "code",
   "execution_count": 207,
   "metadata": {},
   "outputs": [
    {
     "data": {
      "text/plain": [
       "2017"
      ]
     },
     "execution_count": 207,
     "metadata": {},
     "output_type": "execute_result"
    }
   ],
   "source": [
    "max_year"
   ]
  },
  {
   "cell_type": "code",
   "execution_count": 208,
   "metadata": {},
   "outputs": [],
   "source": [
    "# I will subtract the 1/10th of the difference between the year and the most recent year from each star rating to reflect weights\n",
    "# of time\n",
    "year_weights=(max_year-rank1_df['year'])/10"
   ]
  },
  {
   "cell_type": "code",
   "execution_count": 209,
   "metadata": {},
   "outputs": [
    {
     "data": {
      "text/plain": [
       "date\n",
       "2004-07-22    1.3\n",
       "2004-09-15    1.3\n",
       "2004-10-12    1.3\n",
       "2004-10-19    1.3\n",
       "2004-10-19    1.3\n",
       "2004-10-19    1.3\n",
       "2004-10-19    1.3\n",
       "2004-10-19    1.3\n",
       "2004-12-19    1.3\n",
       "2004-12-19    1.3\n",
       "Name: year, dtype: float64"
      ]
     },
     "execution_count": 209,
     "metadata": {},
     "output_type": "execute_result"
    }
   ],
   "source": [
    "year_weights[0:10]"
   ]
  },
  {
   "cell_type": "code",
   "execution_count": 210,
   "metadata": {},
   "outputs": [],
   "source": [
    "rank1_df['year penalty']=year_weights.values"
   ]
  },
  {
   "cell_type": "code",
   "execution_count": 211,
   "metadata": {},
   "outputs": [
    {
     "data": {
      "text/html": [
       "<div>\n",
       "<style scoped>\n",
       "    .dataframe tbody tr th:only-of-type {\n",
       "        vertical-align: middle;\n",
       "    }\n",
       "\n",
       "    .dataframe tbody tr th {\n",
       "        vertical-align: top;\n",
       "    }\n",
       "\n",
       "    .dataframe thead th {\n",
       "        text-align: right;\n",
       "    }\n",
       "</style>\n",
       "<table border=\"1\" class=\"dataframe\">\n",
       "  <thead>\n",
       "    <tr style=\"text-align: right;\">\n",
       "      <th></th>\n",
       "      <th>name</th>\n",
       "      <th>stars_x</th>\n",
       "      <th>review_count</th>\n",
       "      <th>address</th>\n",
       "      <th>postal_code</th>\n",
       "      <th>year</th>\n",
       "      <th>year penalty</th>\n",
       "    </tr>\n",
       "    <tr>\n",
       "      <th>date</th>\n",
       "      <th></th>\n",
       "      <th></th>\n",
       "      <th></th>\n",
       "      <th></th>\n",
       "      <th></th>\n",
       "      <th></th>\n",
       "      <th></th>\n",
       "    </tr>\n",
       "  </thead>\n",
       "  <tbody>\n",
       "    <tr>\n",
       "      <th>2004-07-22</th>\n",
       "      <td>Kashmir</td>\n",
       "      <td>5</td>\n",
       "      <td>41.0</td>\n",
       "      <td>Leonberger Str. 97</td>\n",
       "      <td>71229</td>\n",
       "      <td>2004</td>\n",
       "      <td>1.3</td>\n",
       "    </tr>\n",
       "    <tr>\n",
       "      <th>2004-09-15</th>\n",
       "      <td>Woody's</td>\n",
       "      <td>2</td>\n",
       "      <td>91.0</td>\n",
       "      <td>Rosensteinstr. 22</td>\n",
       "      <td>70191</td>\n",
       "      <td>2004</td>\n",
       "      <td>1.3</td>\n",
       "    </tr>\n",
       "    <tr>\n",
       "      <th>2004-10-12</th>\n",
       "      <td>La Bamba</td>\n",
       "      <td>5</td>\n",
       "      <td>18.0</td>\n",
       "      <td>606 S 6th St</td>\n",
       "      <td>61820</td>\n",
       "      <td>2004</td>\n",
       "      <td>1.3</td>\n",
       "    </tr>\n",
       "  </tbody>\n",
       "</table>\n",
       "</div>"
      ],
      "text/plain": [
       "                name  stars_x  review_count             address postal_code  year  year penalty\n",
       "date                                                                                           \n",
       "2004-07-22   Kashmir        5          41.0  Leonberger Str. 97       71229  2004           1.3\n",
       "2004-09-15   Woody's        2          91.0   Rosensteinstr. 22       70191  2004           1.3\n",
       "2004-10-12  La Bamba        5          18.0        606 S 6th St       61820  2004           1.3"
      ]
     },
     "execution_count": 211,
     "metadata": {},
     "output_type": "execute_result"
    }
   ],
   "source": [
    "rank1_df.head(3)"
   ]
  },
  {
   "cell_type": "code",
   "execution_count": 212,
   "metadata": {},
   "outputs": [],
   "source": [
    "rank1_df['star adjusted']=rank1_df['stars_x']-rank1_df['year penalty']"
   ]
  },
  {
   "cell_type": "code",
   "execution_count": 213,
   "metadata": {},
   "outputs": [
    {
     "data": {
      "text/html": [
       "<div>\n",
       "<style scoped>\n",
       "    .dataframe tbody tr th:only-of-type {\n",
       "        vertical-align: middle;\n",
       "    }\n",
       "\n",
       "    .dataframe tbody tr th {\n",
       "        vertical-align: top;\n",
       "    }\n",
       "\n",
       "    .dataframe thead th {\n",
       "        text-align: right;\n",
       "    }\n",
       "</style>\n",
       "<table border=\"1\" class=\"dataframe\">\n",
       "  <thead>\n",
       "    <tr style=\"text-align: right;\">\n",
       "      <th></th>\n",
       "      <th>name</th>\n",
       "      <th>stars_x</th>\n",
       "      <th>review_count</th>\n",
       "      <th>address</th>\n",
       "      <th>postal_code</th>\n",
       "      <th>year</th>\n",
       "      <th>year penalty</th>\n",
       "      <th>star adjusted</th>\n",
       "    </tr>\n",
       "    <tr>\n",
       "      <th>date</th>\n",
       "      <th></th>\n",
       "      <th></th>\n",
       "      <th></th>\n",
       "      <th></th>\n",
       "      <th></th>\n",
       "      <th></th>\n",
       "      <th></th>\n",
       "      <th></th>\n",
       "    </tr>\n",
       "  </thead>\n",
       "  <tbody>\n",
       "    <tr>\n",
       "      <th>2004-07-22</th>\n",
       "      <td>Kashmir</td>\n",
       "      <td>5</td>\n",
       "      <td>41.0</td>\n",
       "      <td>Leonberger Str. 97</td>\n",
       "      <td>71229</td>\n",
       "      <td>2004</td>\n",
       "      <td>1.3</td>\n",
       "      <td>3.7</td>\n",
       "    </tr>\n",
       "    <tr>\n",
       "      <th>2004-09-15</th>\n",
       "      <td>Woody's</td>\n",
       "      <td>2</td>\n",
       "      <td>91.0</td>\n",
       "      <td>Rosensteinstr. 22</td>\n",
       "      <td>70191</td>\n",
       "      <td>2004</td>\n",
       "      <td>1.3</td>\n",
       "      <td>0.7</td>\n",
       "    </tr>\n",
       "    <tr>\n",
       "      <th>2004-10-12</th>\n",
       "      <td>La Bamba</td>\n",
       "      <td>5</td>\n",
       "      <td>18.0</td>\n",
       "      <td>606 S 6th St</td>\n",
       "      <td>61820</td>\n",
       "      <td>2004</td>\n",
       "      <td>1.3</td>\n",
       "      <td>3.7</td>\n",
       "    </tr>\n",
       "    <tr>\n",
       "      <th>2004-10-19</th>\n",
       "      <td>Papa John's Pizza</td>\n",
       "      <td>4</td>\n",
       "      <td>29.0</td>\n",
       "      <td>106 E Green St</td>\n",
       "      <td>61820</td>\n",
       "      <td>2004</td>\n",
       "      <td>1.3</td>\n",
       "      <td>2.7</td>\n",
       "    </tr>\n",
       "    <tr>\n",
       "      <th>2004-10-19</th>\n",
       "      <td>Papa Del's Pizza</td>\n",
       "      <td>5</td>\n",
       "      <td>371.0</td>\n",
       "      <td>1201 S Neil St</td>\n",
       "      <td>61820</td>\n",
       "      <td>2004</td>\n",
       "      <td>1.3</td>\n",
       "      <td>3.7</td>\n",
       "    </tr>\n",
       "  </tbody>\n",
       "</table>\n",
       "</div>"
      ],
      "text/plain": [
       "                         name  stars_x  review_count             address postal_code  year  year penalty  star adjusted\n",
       "date                                                                                                                   \n",
       "2004-07-22            Kashmir        5          41.0  Leonberger Str. 97       71229  2004           1.3            3.7\n",
       "2004-09-15            Woody's        2          91.0   Rosensteinstr. 22       70191  2004           1.3            0.7\n",
       "2004-10-12           La Bamba        5          18.0        606 S 6th St       61820  2004           1.3            3.7\n",
       "2004-10-19  Papa John's Pizza        4          29.0      106 E Green St       61820  2004           1.3            2.7\n",
       "2004-10-19   Papa Del's Pizza        5         371.0      1201 S Neil St       61820  2004           1.3            3.7"
      ]
     },
     "execution_count": 213,
     "metadata": {},
     "output_type": "execute_result"
    }
   ],
   "source": [
    "rank1_df.head()"
   ]
  },
  {
   "cell_type": "code",
   "execution_count": 214,
   "metadata": {},
   "outputs": [],
   "source": [
    "rank1_df['unique restaurants']=[str(x)+'-'+str(y) for x , y in zip(rank1_df['name'], rank1_df['address'])]"
   ]
  },
  {
   "cell_type": "code",
   "execution_count": 215,
   "metadata": {},
   "outputs": [],
   "source": [
    "# We now need to consider the popularity of each restaurant by how many total review it has received\n",
    "# First get average star rating of each restaurant, use name/address pair to find unique restaurants\n",
    "avg_rating=rank1_df.groupby('unique restaurants')['star adjusted'].mean().reset_index()"
   ]
  },
  {
   "cell_type": "code",
   "execution_count": 216,
   "metadata": {},
   "outputs": [
    {
     "data": {
      "text/html": [
       "<div>\n",
       "<style scoped>\n",
       "    .dataframe tbody tr th:only-of-type {\n",
       "        vertical-align: middle;\n",
       "    }\n",
       "\n",
       "    .dataframe tbody tr th {\n",
       "        vertical-align: top;\n",
       "    }\n",
       "\n",
       "    .dataframe thead th {\n",
       "        text-align: right;\n",
       "    }\n",
       "</style>\n",
       "<table border=\"1\" class=\"dataframe\">\n",
       "  <thead>\n",
       "    <tr style=\"text-align: right;\">\n",
       "      <th></th>\n",
       "      <th>unique restaurants</th>\n",
       "      <th>star adjusted</th>\n",
       "    </tr>\n",
       "  </thead>\n",
       "  <tbody>\n",
       "    <tr>\n",
       "      <th>0</th>\n",
       "      <td>#1 Fried Rice-9310 W Van Buren St</td>\n",
       "      <td>3.371053</td>\n",
       "    </tr>\n",
       "    <tr>\n",
       "      <th>1</th>\n",
       "      <td>#1 Hawaiian Barbecue-5905 S Eastern Ave, Ste 105</td>\n",
       "      <td>3.534375</td>\n",
       "    </tr>\n",
       "    <tr>\n",
       "      <th>2</th>\n",
       "      <td>#1 Pho-7778 W 130th St</td>\n",
       "      <td>3.142857</td>\n",
       "    </tr>\n",
       "    <tr>\n",
       "      <th>3</th>\n",
       "      <td>#1 Sushi-9617 N Metro Pkwy</td>\n",
       "      <td>4.009091</td>\n",
       "    </tr>\n",
       "    <tr>\n",
       "      <th>4</th>\n",
       "      <td>#1Brothers Pizza-16995 W Greenway Rd, Ste 104</td>\n",
       "      <td>2.770000</td>\n",
       "    </tr>\n",
       "  </tbody>\n",
       "</table>\n",
       "</div>"
      ],
      "text/plain": [
       "                                 unique restaurants  star adjusted\n",
       "0                 #1 Fried Rice-9310 W Van Buren St       3.371053\n",
       "1  #1 Hawaiian Barbecue-5905 S Eastern Ave, Ste 105       3.534375\n",
       "2                            #1 Pho-7778 W 130th St       3.142857\n",
       "3                        #1 Sushi-9617 N Metro Pkwy       4.009091\n",
       "4     #1Brothers Pizza-16995 W Greenway Rd, Ste 104       2.770000"
      ]
     },
     "execution_count": 216,
     "metadata": {},
     "output_type": "execute_result"
    }
   ],
   "source": [
    "avg_rating.head()"
   ]
  },
  {
   "cell_type": "code",
   "execution_count": 217,
   "metadata": {},
   "outputs": [],
   "source": [
    "avg_rating.columns=['unique restaurants', 'average star']"
   ]
  },
  {
   "cell_type": "code",
   "execution_count": 218,
   "metadata": {},
   "outputs": [
    {
     "data": {
      "text/plain": [
       "68943"
      ]
     },
     "execution_count": 218,
     "metadata": {},
     "output_type": "execute_result"
    }
   ],
   "source": [
    "len(avg_rating)"
   ]
  },
  {
   "cell_type": "code",
   "execution_count": 220,
   "metadata": {},
   "outputs": [
    {
     "data": {
      "text/html": [
       "<div>\n",
       "<style scoped>\n",
       "    .dataframe tbody tr th:only-of-type {\n",
       "        vertical-align: middle;\n",
       "    }\n",
       "\n",
       "    .dataframe tbody tr th {\n",
       "        vertical-align: top;\n",
       "    }\n",
       "\n",
       "    .dataframe thead th {\n",
       "        text-align: right;\n",
       "    }\n",
       "</style>\n",
       "<table border=\"1\" class=\"dataframe\">\n",
       "  <thead>\n",
       "    <tr style=\"text-align: right;\">\n",
       "      <th></th>\n",
       "      <th>name</th>\n",
       "      <th>stars_x</th>\n",
       "      <th>review_count</th>\n",
       "      <th>address</th>\n",
       "      <th>postal_code</th>\n",
       "      <th>year</th>\n",
       "      <th>year penalty</th>\n",
       "      <th>star adjusted</th>\n",
       "      <th>unique restaurants</th>\n",
       "    </tr>\n",
       "    <tr>\n",
       "      <th>date</th>\n",
       "      <th></th>\n",
       "      <th></th>\n",
       "      <th></th>\n",
       "      <th></th>\n",
       "      <th></th>\n",
       "      <th></th>\n",
       "      <th></th>\n",
       "      <th></th>\n",
       "      <th></th>\n",
       "    </tr>\n",
       "  </thead>\n",
       "  <tbody>\n",
       "    <tr>\n",
       "      <th>2004-07-22</th>\n",
       "      <td>Kashmir</td>\n",
       "      <td>5</td>\n",
       "      <td>41.0</td>\n",
       "      <td>Leonberger Str. 97</td>\n",
       "      <td>71229</td>\n",
       "      <td>2004</td>\n",
       "      <td>1.3</td>\n",
       "      <td>3.7</td>\n",
       "      <td>Kashmir-Leonberger Str. 97</td>\n",
       "    </tr>\n",
       "    <tr>\n",
       "      <th>2004-09-15</th>\n",
       "      <td>Woody's</td>\n",
       "      <td>2</td>\n",
       "      <td>91.0</td>\n",
       "      <td>Rosensteinstr. 22</td>\n",
       "      <td>70191</td>\n",
       "      <td>2004</td>\n",
       "      <td>1.3</td>\n",
       "      <td>0.7</td>\n",
       "      <td>Woody's-Rosensteinstr. 22</td>\n",
       "    </tr>\n",
       "    <tr>\n",
       "      <th>2004-10-12</th>\n",
       "      <td>La Bamba</td>\n",
       "      <td>5</td>\n",
       "      <td>18.0</td>\n",
       "      <td>606 S 6th St</td>\n",
       "      <td>61820</td>\n",
       "      <td>2004</td>\n",
       "      <td>1.3</td>\n",
       "      <td>3.7</td>\n",
       "      <td>La Bamba-606 S 6th St</td>\n",
       "    </tr>\n",
       "  </tbody>\n",
       "</table>\n",
       "</div>"
      ],
      "text/plain": [
       "                name  stars_x  review_count             address postal_code  year  year penalty  star adjusted          unique restaurants\n",
       "date                                                                                                                                      \n",
       "2004-07-22   Kashmir        5          41.0  Leonberger Str. 97       71229  2004           1.3            3.7  Kashmir-Leonberger Str. 97\n",
       "2004-09-15   Woody's        2          91.0   Rosensteinstr. 22       70191  2004           1.3            0.7   Woody's-Rosensteinstr. 22\n",
       "2004-10-12  La Bamba        5          18.0        606 S 6th St       61820  2004           1.3            3.7       La Bamba-606 S 6th St"
      ]
     },
     "execution_count": 220,
     "metadata": {},
     "output_type": "execute_result"
    }
   ],
   "source": [
    "rank1_df.head(3)"
   ]
  },
  {
   "cell_type": "code",
   "execution_count": 233,
   "metadata": {},
   "outputs": [],
   "source": [
    "# Get the total number of reviews for each restaurant\n",
    "new_ranking=rank1_df.drop(['stars_x', 'year', 'year penalty', 'star adjusted', 'unique restaurants'], axis=1).drop_duplicates()"
   ]
  },
  {
   "cell_type": "code",
   "execution_count": 234,
   "metadata": {},
   "outputs": [],
   "source": [
    "new_ranking.reset_index(drop=True, inplace=True)"
   ]
  },
  {
   "cell_type": "code",
   "execution_count": 235,
   "metadata": {},
   "outputs": [
    {
     "data": {
      "text/html": [
       "<div>\n",
       "<style scoped>\n",
       "    .dataframe tbody tr th:only-of-type {\n",
       "        vertical-align: middle;\n",
       "    }\n",
       "\n",
       "    .dataframe tbody tr th {\n",
       "        vertical-align: top;\n",
       "    }\n",
       "\n",
       "    .dataframe thead th {\n",
       "        text-align: right;\n",
       "    }\n",
       "</style>\n",
       "<table border=\"1\" class=\"dataframe\">\n",
       "  <thead>\n",
       "    <tr style=\"text-align: right;\">\n",
       "      <th></th>\n",
       "      <th>name</th>\n",
       "      <th>review_count</th>\n",
       "      <th>address</th>\n",
       "      <th>postal_code</th>\n",
       "    </tr>\n",
       "  </thead>\n",
       "  <tbody>\n",
       "    <tr>\n",
       "      <th>0</th>\n",
       "      <td>Kashmir</td>\n",
       "      <td>41.0</td>\n",
       "      <td>Leonberger Str. 97</td>\n",
       "      <td>71229</td>\n",
       "    </tr>\n",
       "    <tr>\n",
       "      <th>1</th>\n",
       "      <td>Woody's</td>\n",
       "      <td>91.0</td>\n",
       "      <td>Rosensteinstr. 22</td>\n",
       "      <td>70191</td>\n",
       "    </tr>\n",
       "    <tr>\n",
       "      <th>2</th>\n",
       "      <td>La Bamba</td>\n",
       "      <td>18.0</td>\n",
       "      <td>606 S 6th St</td>\n",
       "      <td>61820</td>\n",
       "    </tr>\n",
       "    <tr>\n",
       "      <th>3</th>\n",
       "      <td>Papa John's Pizza</td>\n",
       "      <td>29.0</td>\n",
       "      <td>106 E Green St</td>\n",
       "      <td>61820</td>\n",
       "    </tr>\n",
       "    <tr>\n",
       "      <th>4</th>\n",
       "      <td>Papa Del's Pizza</td>\n",
       "      <td>371.0</td>\n",
       "      <td>1201 S Neil St</td>\n",
       "      <td>61820</td>\n",
       "    </tr>\n",
       "  </tbody>\n",
       "</table>\n",
       "</div>"
      ],
      "text/plain": [
       "                name  review_count             address postal_code\n",
       "0            Kashmir          41.0  Leonberger Str. 97       71229\n",
       "1            Woody's          91.0   Rosensteinstr. 22       70191\n",
       "2           La Bamba          18.0        606 S 6th St       61820\n",
       "3  Papa John's Pizza          29.0      106 E Green St       61820\n",
       "4   Papa Del's Pizza         371.0      1201 S Neil St       61820"
      ]
     },
     "execution_count": 235,
     "metadata": {},
     "output_type": "execute_result"
    }
   ],
   "source": [
    "new_ranking.head()"
   ]
  },
  {
   "cell_type": "code",
   "execution_count": 236,
   "metadata": {},
   "outputs": [
    {
     "data": {
      "text/plain": [
       "69067"
      ]
     },
     "execution_count": 236,
     "metadata": {},
     "output_type": "execute_result"
    }
   ],
   "source": [
    "len(new_ranking)"
   ]
  },
  {
   "cell_type": "code",
   "execution_count": 237,
   "metadata": {},
   "outputs": [],
   "source": [
    "new_ranking['unique restaurants']=[str(x)+'-'+str(y) for x , y in zip(new_ranking['name'], new_ranking['address'])]"
   ]
  },
  {
   "cell_type": "code",
   "execution_count": 238,
   "metadata": {},
   "outputs": [],
   "source": [
    "new_ranking=new_ranking.merge(avg_rating, how='left', on='unique restaurants')"
   ]
  },
  {
   "cell_type": "code",
   "execution_count": 239,
   "metadata": {},
   "outputs": [
    {
     "data": {
      "text/html": [
       "<div>\n",
       "<style scoped>\n",
       "    .dataframe tbody tr th:only-of-type {\n",
       "        vertical-align: middle;\n",
       "    }\n",
       "\n",
       "    .dataframe tbody tr th {\n",
       "        vertical-align: top;\n",
       "    }\n",
       "\n",
       "    .dataframe thead th {\n",
       "        text-align: right;\n",
       "    }\n",
       "</style>\n",
       "<table border=\"1\" class=\"dataframe\">\n",
       "  <thead>\n",
       "    <tr style=\"text-align: right;\">\n",
       "      <th></th>\n",
       "      <th>name</th>\n",
       "      <th>review_count</th>\n",
       "      <th>address</th>\n",
       "      <th>postal_code</th>\n",
       "      <th>unique restaurants</th>\n",
       "      <th>average star</th>\n",
       "    </tr>\n",
       "  </thead>\n",
       "  <tbody>\n",
       "    <tr>\n",
       "      <th>0</th>\n",
       "      <td>Kashmir</td>\n",
       "      <td>41.0</td>\n",
       "      <td>Leonberger Str. 97</td>\n",
       "      <td>71229</td>\n",
       "      <td>Kashmir-Leonberger Str. 97</td>\n",
       "      <td>3.960976</td>\n",
       "    </tr>\n",
       "    <tr>\n",
       "      <th>1</th>\n",
       "      <td>Woody's</td>\n",
       "      <td>91.0</td>\n",
       "      <td>Rosensteinstr. 22</td>\n",
       "      <td>70191</td>\n",
       "      <td>Woody's-Rosensteinstr. 22</td>\n",
       "      <td>2.261538</td>\n",
       "    </tr>\n",
       "    <tr>\n",
       "      <th>2</th>\n",
       "      <td>La Bamba</td>\n",
       "      <td>18.0</td>\n",
       "      <td>606 S 6th St</td>\n",
       "      <td>61820</td>\n",
       "      <td>La Bamba-606 S 6th St</td>\n",
       "      <td>2.855556</td>\n",
       "    </tr>\n",
       "    <tr>\n",
       "      <th>3</th>\n",
       "      <td>Papa John's Pizza</td>\n",
       "      <td>29.0</td>\n",
       "      <td>106 E Green St</td>\n",
       "      <td>61820</td>\n",
       "      <td>Papa John's Pizza-106 E Green St</td>\n",
       "      <td>1.993103</td>\n",
       "    </tr>\n",
       "    <tr>\n",
       "      <th>4</th>\n",
       "      <td>Papa Del's Pizza</td>\n",
       "      <td>371.0</td>\n",
       "      <td>1201 S Neil St</td>\n",
       "      <td>61820</td>\n",
       "      <td>Papa Del's Pizza-1201 S Neil St</td>\n",
       "      <td>3.022520</td>\n",
       "    </tr>\n",
       "  </tbody>\n",
       "</table>\n",
       "</div>"
      ],
      "text/plain": [
       "                name  review_count             address postal_code                unique restaurants  average star\n",
       "0            Kashmir          41.0  Leonberger Str. 97       71229        Kashmir-Leonberger Str. 97      3.960976\n",
       "1            Woody's          91.0   Rosensteinstr. 22       70191         Woody's-Rosensteinstr. 22      2.261538\n",
       "2           La Bamba          18.0        606 S 6th St       61820             La Bamba-606 S 6th St      2.855556\n",
       "3  Papa John's Pizza          29.0      106 E Green St       61820  Papa John's Pizza-106 E Green St      1.993103\n",
       "4   Papa Del's Pizza         371.0      1201 S Neil St       61820   Papa Del's Pizza-1201 S Neil St      3.022520"
      ]
     },
     "execution_count": 239,
     "metadata": {},
     "output_type": "execute_result"
    }
   ],
   "source": [
    "new_ranking.head()"
   ]
  },
  {
   "cell_type": "code",
   "execution_count": 240,
   "metadata": {},
   "outputs": [
    {
     "data": {
      "text/plain": [
       "69067"
      ]
     },
     "execution_count": 240,
     "metadata": {},
     "output_type": "execute_result"
    }
   ],
   "source": [
    "len(new_ranking)"
   ]
  },
  {
   "cell_type": "markdown",
   "metadata": {},
   "source": [
    "I will use IMDB's method for calculating weighted star rating as follows: <br>\n",
    "<b>weighted rating</b> = $\\frac{V}{V+M}$&sdot;$R$ + $\\frac{M}{V+M}$&sdot;$C$ <br>\n",
    "Here: <br>\n",
    "V=number of reviews for the restaurant<br>\n",
    "M=minimum number reviews required to be put on the recommendation list<br>\n",
    "R=average star rating of the restaurant<br>\n",
    "C=mean star rating of all restaurants"
   ]
  },
  {
   "cell_type": "code",
   "execution_count": 241,
   "metadata": {},
   "outputs": [],
   "source": [
    "# To define the minimum number of reviews, I will use the 50 as the minimum number of reviews to be listed"
   ]
  },
  {
   "cell_type": "code",
   "execution_count": 242,
   "metadata": {},
   "outputs": [],
   "source": [
    "min_reviews=50"
   ]
  },
  {
   "cell_type": "code",
   "execution_count": 243,
   "metadata": {},
   "outputs": [],
   "source": [
    "weighted_ranking=new_ranking.copy()"
   ]
  },
  {
   "cell_type": "code",
   "execution_count": 244,
   "metadata": {},
   "outputs": [],
   "source": [
    "weighted_ranking=weighted_ranking[weighted_ranking['review_count']>=50]"
   ]
  },
  {
   "cell_type": "code",
   "execution_count": 245,
   "metadata": {},
   "outputs": [
    {
     "data": {
      "text/plain": [
       "16074"
      ]
     },
     "execution_count": 245,
     "metadata": {},
     "output_type": "execute_result"
    }
   ],
   "source": [
    "len(weighted_ranking)"
   ]
  },
  {
   "cell_type": "code",
   "execution_count": 246,
   "metadata": {},
   "outputs": [],
   "source": [
    "mean_star_rating=np.mean(weighted_ranking['average star'])"
   ]
  },
  {
   "cell_type": "code",
   "execution_count": 247,
   "metadata": {},
   "outputs": [
    {
     "data": {
      "text/plain": [
       "3.4360065426756634"
      ]
     },
     "execution_count": 247,
     "metadata": {},
     "output_type": "execute_result"
    }
   ],
   "source": [
    "mean_star_rating"
   ]
  },
  {
   "cell_type": "code",
   "execution_count": 248,
   "metadata": {},
   "outputs": [],
   "source": [
    "# Calculate weighted ratings\n",
    "weighted_ratings=[(x*weighted_ranking['average star'].values[idx]+min_reviews*mean_star_rating)/(x+min_reviews) \\\n",
    "                  for idx, x in enumerate(weighted_ranking['review_count'])]"
   ]
  },
  {
   "cell_type": "code",
   "execution_count": 249,
   "metadata": {},
   "outputs": [
    {
     "data": {
      "text/plain": [
       "[2.678016504494917,\n",
       " 3.071627759903334,\n",
       " 2.1837704910622673,\n",
       " 2.8000464907941134,\n",
       " 2.881178394904609]"
      ]
     },
     "execution_count": 249,
     "metadata": {},
     "output_type": "execute_result"
    }
   ],
   "source": [
    "weighted_ratings[0:5]"
   ]
  },
  {
   "cell_type": "code",
   "execution_count": 250,
   "metadata": {},
   "outputs": [],
   "source": [
    "weighted_ranking['Weighted star rating']=weighted_ratings"
   ]
  },
  {
   "cell_type": "code",
   "execution_count": 251,
   "metadata": {},
   "outputs": [
    {
     "data": {
      "text/html": [
       "<div>\n",
       "<style scoped>\n",
       "    .dataframe tbody tr th:only-of-type {\n",
       "        vertical-align: middle;\n",
       "    }\n",
       "\n",
       "    .dataframe tbody tr th {\n",
       "        vertical-align: top;\n",
       "    }\n",
       "\n",
       "    .dataframe thead th {\n",
       "        text-align: right;\n",
       "    }\n",
       "</style>\n",
       "<table border=\"1\" class=\"dataframe\">\n",
       "  <thead>\n",
       "    <tr style=\"text-align: right;\">\n",
       "      <th></th>\n",
       "      <th>name</th>\n",
       "      <th>review_count</th>\n",
       "      <th>address</th>\n",
       "      <th>postal_code</th>\n",
       "      <th>unique restaurants</th>\n",
       "      <th>average star</th>\n",
       "      <th>Weighted star rating</th>\n",
       "    </tr>\n",
       "  </thead>\n",
       "  <tbody>\n",
       "    <tr>\n",
       "      <th>1</th>\n",
       "      <td>Woody's</td>\n",
       "      <td>91.0</td>\n",
       "      <td>Rosensteinstr. 22</td>\n",
       "      <td>70191</td>\n",
       "      <td>Woody's-Rosensteinstr. 22</td>\n",
       "      <td>2.261538</td>\n",
       "      <td>2.678017</td>\n",
       "    </tr>\n",
       "    <tr>\n",
       "      <th>4</th>\n",
       "      <td>Papa Del's Pizza</td>\n",
       "      <td>371.0</td>\n",
       "      <td>1201 S Neil St</td>\n",
       "      <td>61820</td>\n",
       "      <td>Papa Del's Pizza-1201 S Neil St</td>\n",
       "      <td>3.022520</td>\n",
       "      <td>3.071628</td>\n",
       "    </tr>\n",
       "    <tr>\n",
       "      <th>9</th>\n",
       "      <td>LVH - Las Vegas Hotel &amp; Casino</td>\n",
       "      <td>942.0</td>\n",
       "      <td>3000 Paradise Rd</td>\n",
       "      <td>89109</td>\n",
       "      <td>LVH - Las Vegas Hotel &amp; Casino-3000 Paradise Rd</td>\n",
       "      <td>2.117304</td>\n",
       "      <td>2.183770</td>\n",
       "    </tr>\n",
       "  </tbody>\n",
       "</table>\n",
       "</div>"
      ],
      "text/plain": [
       "                             name  review_count            address postal_code                               unique restaurants  average star  Weighted star rating\n",
       "1                         Woody's          91.0  Rosensteinstr. 22       70191                        Woody's-Rosensteinstr. 22      2.261538              2.678017\n",
       "4                Papa Del's Pizza         371.0     1201 S Neil St       61820                  Papa Del's Pizza-1201 S Neil St      3.022520              3.071628\n",
       "9  LVH - Las Vegas Hotel & Casino         942.0   3000 Paradise Rd       89109  LVH - Las Vegas Hotel & Casino-3000 Paradise Rd      2.117304              2.183770"
      ]
     },
     "execution_count": 251,
     "metadata": {},
     "output_type": "execute_result"
    }
   ],
   "source": [
    "weighted_ranking.head(3)"
   ]
  },
  {
   "cell_type": "code",
   "execution_count": 252,
   "metadata": {},
   "outputs": [],
   "source": [
    "weighted_ranking.columns=['Name', 'Total Reviews', 'Address', 'Postal Code', 'unique', 'Avg', 'Weighted Star Rating']"
   ]
  },
  {
   "cell_type": "code",
   "execution_count": 253,
   "metadata": {},
   "outputs": [],
   "source": [
    "weighted_ranking.drop(['unique', 'Avg'], axis=1, inplace=True)"
   ]
  },
  {
   "cell_type": "code",
   "execution_count": 261,
   "metadata": {},
   "outputs": [],
   "source": [
    "# 6-23-18\n",
    "weighted_ranking.to_csv('final weighted ranking.csv')"
   ]
  },
  {
   "cell_type": "code",
   "execution_count": 254,
   "metadata": {},
   "outputs": [],
   "source": [
    "# 6-23-18 save the file\n",
    "new_ranking.to_csv('restaurants weighted rating.csv')"
   ]
  },
  {
   "cell_type": "code",
   "execution_count": 255,
   "metadata": {},
   "outputs": [],
   "source": [
    "# Make a function to recommend top n restaurants based on postal code using new weighted star ratings\n",
    "def recommend(postal, n):\n",
    "    # If user enters a postal code, return the top n restaurants. If not found, return no restaurants found\n",
    "    postal=str(postal)\n",
    "    if postal in weighted_ranking['Postal Code'].values:\n",
    "        all_res=weighted_ranking[weighted_ranking['Postal Code']==postal].sort_values('Weighted Star Rating', \n",
    "                                                                                       ascending=False).copy()\n",
    "        top_n=all_res.copy().head(n)\n",
    "        nrows=len(top_n)\n",
    "        top_n.index=np.arange(nrows)+1\n",
    "        top_n.columns=['Restaurants', 'Total Reviews', 'Address', 'Postal Code', 'Star Rating']\n",
    "        top_n['Total Reviews']=top_n['Total Reviews'].astype(int)\n",
    "        top_n['Star Rating']=top_n['Star Rating'].apply(lambda x: round(x, 1))\n",
    "    else:\n",
    "        top_n='Sorry, no restaurants were found in the postal code you specified'\n",
    "    return(print('Recommended restaurants are: \\n \\n', top_n))"
   ]
  },
  {
   "cell_type": "code",
   "execution_count": 256,
   "metadata": {},
   "outputs": [
    {
     "name": "stdout",
     "output_type": "stream",
     "text": [
      "Recommended restaurants are: \n",
      " \n",
      "                  Restaurants  Total Reviews        Address Postal Code  Star Rating\n",
      "1  Gaucho Parrilla Argentina           1267  1601 Penn Ave       15222          4.4\n",
      "2           DiAnoia's Eatery            219  2549 Penn Ave       15222          4.2\n",
      "3            Smallman Galley            339     54 21st St       15222          4.2\n",
      "4                       täkō            806     214 6th St       15222          4.2\n",
      "5                Bakersfield            457   940 Penn Ave       15222          4.1\n"
     ]
    }
   ],
   "source": [
    "recommend(15222, 5)"
   ]
  },
  {
   "cell_type": "code",
   "execution_count": 257,
   "metadata": {},
   "outputs": [
    {
     "name": "stdout",
     "output_type": "stream",
     "text": [
      "Recommended restaurants are: \n",
      " \n",
      " Sorry, no restaurants were found in the postal code you specified\n"
     ]
    }
   ],
   "source": [
    "recommend(11364, 5)"
   ]
  },
  {
   "cell_type": "markdown",
   "metadata": {},
   "source": [
    "<b style='font-size:200%;'>2. Content based recommendation system.</b>"
   ]
  },
  {
   "cell_type": "markdown",
   "metadata": {},
   "source": [
    "The second recommendation system I am going to build is content based. I will use the cuisine and all the attributes columns to find similarities between restaurants and recommend other restaurants based on these similarities."
   ]
  },
  {
   "cell_type": "code",
   "execution_count": 5,
   "metadata": {},
   "outputs": [],
   "source": [
    "columns_to_keep=['name','Alcohol','Ambience casual','Ambience classy','Ambience divey','Ambience hipster','Ambience intimate',\n",
    "                 'Ambience romantic','Ambience touristy','Ambience trendy','Ambience upscale','BikeParking', 'address',\n",
    "                 'BusinessAcceptsCreditCards','BusinessParking garage','BusinessParking lot','BusinessParking street',\n",
    "                 'BusinessParking valet','BusinessParking validated','Caters','DogsAllowed','GoodForKids','GoodForMeal breakfast',\n",
    "                 'GoodForMeal brunch','GoodForMeal dessert','GoodForMeal dinner','GoodForMeal latenight','GoodForMeal lunch',\n",
    "                 'HasTV','NoiseLevel','OutdoorSeating','RestaurantsAttire','RestaurantsDelivery','RestaurantsGoodForGroups',\n",
    "                 'RestaurantsPriceRange2','RestaurantsReservations','RestaurantsTableService','RestaurantsTakeOut',\n",
    "                 'WheelchairAccessible','WiFi', 'Cuisine']"
   ]
  },
  {
   "cell_type": "code",
   "execution_count": 259,
   "metadata": {},
   "outputs": [],
   "source": [
    "rec_df=restaurants.copy()[columns_to_keep]"
   ]
  },
  {
   "cell_type": "code",
   "execution_count": 260,
   "metadata": {},
   "outputs": [
    {
     "name": "stdout",
     "output_type": "stream",
     "text": [
      "<class 'pandas.core.frame.DataFrame'>\n",
      "DatetimeIndex: 3540134 entries, 2004-07-22 to 2017-12-11\n",
      "Data columns (total 41 columns):\n",
      "name                          3540133 non-null object\n",
      "Alcohol                       3142933 non-null object\n",
      "Ambience casual               3092102 non-null object\n",
      "Ambience classy               3092102 non-null object\n",
      "Ambience divey                2515635 non-null object\n",
      "Ambience hipster              3091947 non-null object\n",
      "Ambience intimate             3092102 non-null object\n",
      "Ambience romantic             3092102 non-null object\n",
      "Ambience touristy             3092102 non-null object\n",
      "Ambience trendy               3092102 non-null object\n",
      "Ambience upscale              3092102 non-null object\n",
      "BikeParking                   3283085 non-null object\n",
      "address                       3530054 non-null object\n",
      "BusinessAcceptsCreditCards    3446709 non-null object\n",
      "BusinessParking garage        3432378 non-null object\n",
      "BusinessParking lot           3432378 non-null object\n",
      "BusinessParking street        3432378 non-null object\n",
      "BusinessParking valet         3432378 non-null object\n",
      "BusinessParking validated     3405229 non-null object\n",
      "Caters                        3107881 non-null object\n",
      "DogsAllowed                   787364 non-null object\n",
      "GoodForKids                   3132049 non-null object\n",
      "GoodForMeal breakfast         3138646 non-null object\n",
      "GoodForMeal brunch            3138646 non-null object\n",
      "GoodForMeal dessert           3138646 non-null object\n",
      "GoodForMeal dinner            3138646 non-null object\n",
      "GoodForMeal latenight         3138646 non-null object\n",
      "GoodForMeal lunch             3138646 non-null object\n",
      "HasTV                         3096026 non-null object\n",
      "NoiseLevel                    3054732 non-null object\n",
      "OutdoorSeating                3230623 non-null object\n",
      "RestaurantsAttire             3107059 non-null object\n",
      "RestaurantsDelivery           3199404 non-null object\n",
      "RestaurantsGoodForGroups      3147430 non-null object\n",
      "RestaurantsPriceRange2        3502635 non-null float64\n",
      "RestaurantsReservations       3128387 non-null object\n",
      "RestaurantsTableService       3045519 non-null object\n",
      "RestaurantsTakeOut            3410668 non-null object\n",
      "WheelchairAccessible          2506949 non-null object\n",
      "WiFi                          3184522 non-null object\n",
      "Cuisine                       3540134 non-null object\n",
      "dtypes: float64(1), object(40)\n",
      "memory usage: 1.1+ GB\n"
     ]
    }
   ],
   "source": [
    "rec_df.info(null_counts=True)"
   ]
  },
  {
   "cell_type": "code",
   "execution_count": 262,
   "metadata": {},
   "outputs": [],
   "source": [
    "# Drop ambience divey , wheelchairaccessible, and dogs allowed columns then drop na\n",
    "rec_df.drop(['Ambience divey', 'DogsAllowed', 'WheelchairAccessible'], axis=1, inplace=True)\n",
    "rec_df.fillna('unknown', inplace=True)"
   ]
  },
  {
   "cell_type": "code",
   "execution_count": 263,
   "metadata": {},
   "outputs": [],
   "source": [
    "rec_df.drop_duplicates(inplace=True)"
   ]
  },
  {
   "cell_type": "code",
   "execution_count": 264,
   "metadata": {},
   "outputs": [
    {
     "name": "stdout",
     "output_type": "stream",
     "text": [
      "<class 'pandas.core.frame.DataFrame'>\n",
      "DatetimeIndex: 69070 entries, 2004-07-22 to 2017-12-08\n",
      "Data columns (total 38 columns):\n",
      "name                          69070 non-null object\n",
      "Alcohol                       69070 non-null object\n",
      "Ambience casual               69070 non-null object\n",
      "Ambience classy               69070 non-null object\n",
      "Ambience hipster              69070 non-null object\n",
      "Ambience intimate             69070 non-null object\n",
      "Ambience romantic             69070 non-null object\n",
      "Ambience touristy             69070 non-null object\n",
      "Ambience trendy               69070 non-null object\n",
      "Ambience upscale              69070 non-null object\n",
      "BikeParking                   69070 non-null object\n",
      "address                       69070 non-null object\n",
      "BusinessAcceptsCreditCards    69070 non-null object\n",
      "BusinessParking garage        69070 non-null object\n",
      "BusinessParking lot           69070 non-null object\n",
      "BusinessParking street        69070 non-null object\n",
      "BusinessParking valet         69070 non-null object\n",
      "BusinessParking validated     69070 non-null object\n",
      "Caters                        69070 non-null object\n",
      "GoodForKids                   69070 non-null object\n",
      "GoodForMeal breakfast         69070 non-null object\n",
      "GoodForMeal brunch            69070 non-null object\n",
      "GoodForMeal dessert           69070 non-null object\n",
      "GoodForMeal dinner            69070 non-null object\n",
      "GoodForMeal latenight         69070 non-null object\n",
      "GoodForMeal lunch             69070 non-null object\n",
      "HasTV                         69070 non-null object\n",
      "NoiseLevel                    69070 non-null object\n",
      "OutdoorSeating                69070 non-null object\n",
      "RestaurantsAttire             69070 non-null object\n",
      "RestaurantsDelivery           69070 non-null object\n",
      "RestaurantsGoodForGroups      69070 non-null object\n",
      "RestaurantsPriceRange2        69070 non-null object\n",
      "RestaurantsReservations       69070 non-null object\n",
      "RestaurantsTableService       69070 non-null object\n",
      "RestaurantsTakeOut            69070 non-null object\n",
      "WiFi                          69070 non-null object\n",
      "Cuisine                       69070 non-null object\n",
      "dtypes: object(38)\n",
      "memory usage: 20.6+ MB\n"
     ]
    }
   ],
   "source": [
    "rec_df.info(null_counts=True)"
   ]
  },
  {
   "cell_type": "code",
   "execution_count": 267,
   "metadata": {},
   "outputs": [],
   "source": [
    "# Combine ranking data frame with this data frame by unique restaurants\n",
    "rec_df['unique restaurants']=[str(x)+'-'+str(y) for x , y in zip(rec_df['name'], rec_df['address'])]\n",
    "new_ranking['unique restaurants']=[str(x)+'-'+str(y) for x , y in zip(new_ranking['name'], new_ranking['address'])]"
   ]
  },
  {
   "cell_type": "code",
   "execution_count": 268,
   "metadata": {},
   "outputs": [],
   "source": [
    "rec_df.to_csv('rec_df.csv')\n",
    "new_ranking.to_csv('new_ranking.csv')"
   ]
  },
  {
   "cell_type": "code",
   "execution_count": 2,
   "metadata": {},
   "outputs": [],
   "source": [
    "# 6-24-18\n",
    "rec_df=pd.read_csv('rec_df.csv', index_col=0)\n",
    "new_ranking=pd.read_csv('new_ranking.csv', index_col=0)"
   ]
  },
  {
   "cell_type": "code",
   "execution_count": 8,
   "metadata": {},
   "outputs": [],
   "source": [
    "# Stopped here on 6-23-18\n",
    "content_df=new_ranking.merge(rec_df, how='inner', on='unique restaurants')"
   ]
  },
  {
   "cell_type": "code",
   "execution_count": 9,
   "metadata": {},
   "outputs": [
    {
     "data": {
      "text/html": [
       "<div>\n",
       "<style scoped>\n",
       "    .dataframe tbody tr th:only-of-type {\n",
       "        vertical-align: middle;\n",
       "    }\n",
       "\n",
       "    .dataframe tbody tr th {\n",
       "        vertical-align: top;\n",
       "    }\n",
       "\n",
       "    .dataframe thead th {\n",
       "        text-align: right;\n",
       "    }\n",
       "</style>\n",
       "<table border=\"1\" class=\"dataframe\">\n",
       "  <thead>\n",
       "    <tr style=\"text-align: right;\">\n",
       "      <th></th>\n",
       "      <th>name_x</th>\n",
       "      <th>review_count</th>\n",
       "      <th>address_x</th>\n",
       "      <th>postal_code</th>\n",
       "      <th>unique restaurants</th>\n",
       "      <th>average star</th>\n",
       "      <th>name_y</th>\n",
       "      <th>Alcohol</th>\n",
       "      <th>Ambience casual</th>\n",
       "      <th>Ambience classy</th>\n",
       "      <th>Ambience hipster</th>\n",
       "      <th>Ambience intimate</th>\n",
       "      <th>Ambience romantic</th>\n",
       "      <th>Ambience touristy</th>\n",
       "      <th>Ambience trendy</th>\n",
       "      <th>Ambience upscale</th>\n",
       "      <th>BikeParking</th>\n",
       "      <th>address_y</th>\n",
       "      <th>BusinessAcceptsCreditCards</th>\n",
       "      <th>BusinessParking garage</th>\n",
       "      <th>BusinessParking lot</th>\n",
       "      <th>BusinessParking street</th>\n",
       "      <th>BusinessParking valet</th>\n",
       "      <th>BusinessParking validated</th>\n",
       "      <th>Caters</th>\n",
       "      <th>GoodForKids</th>\n",
       "      <th>GoodForMeal breakfast</th>\n",
       "      <th>GoodForMeal brunch</th>\n",
       "      <th>GoodForMeal dessert</th>\n",
       "      <th>GoodForMeal dinner</th>\n",
       "      <th>GoodForMeal latenight</th>\n",
       "      <th>GoodForMeal lunch</th>\n",
       "      <th>HasTV</th>\n",
       "      <th>NoiseLevel</th>\n",
       "      <th>OutdoorSeating</th>\n",
       "      <th>RestaurantsAttire</th>\n",
       "      <th>RestaurantsDelivery</th>\n",
       "      <th>RestaurantsGoodForGroups</th>\n",
       "      <th>RestaurantsPriceRange2</th>\n",
       "      <th>RestaurantsReservations</th>\n",
       "      <th>RestaurantsTableService</th>\n",
       "      <th>RestaurantsTakeOut</th>\n",
       "      <th>WiFi</th>\n",
       "      <th>Cuisine</th>\n",
       "    </tr>\n",
       "  </thead>\n",
       "  <tbody>\n",
       "    <tr>\n",
       "      <th>0</th>\n",
       "      <td>Kashmir</td>\n",
       "      <td>41.0</td>\n",
       "      <td>Leonberger Str. 97</td>\n",
       "      <td>71229</td>\n",
       "      <td>Kashmir-Leonberger Str. 97</td>\n",
       "      <td>3.960976</td>\n",
       "      <td>Kashmir</td>\n",
       "      <td>full_bar</td>\n",
       "      <td>False</td>\n",
       "      <td>False</td>\n",
       "      <td>False</td>\n",
       "      <td>False</td>\n",
       "      <td>False</td>\n",
       "      <td>False</td>\n",
       "      <td>False</td>\n",
       "      <td>False</td>\n",
       "      <td>False</td>\n",
       "      <td>Leonberger Str. 97</td>\n",
       "      <td>True</td>\n",
       "      <td>False</td>\n",
       "      <td>False</td>\n",
       "      <td>False</td>\n",
       "      <td>False</td>\n",
       "      <td>False</td>\n",
       "      <td>unknown</td>\n",
       "      <td>False</td>\n",
       "      <td>False</td>\n",
       "      <td>False</td>\n",
       "      <td>False</td>\n",
       "      <td>True</td>\n",
       "      <td>False</td>\n",
       "      <td>False</td>\n",
       "      <td>False</td>\n",
       "      <td>quiet</td>\n",
       "      <td>False</td>\n",
       "      <td>casual</td>\n",
       "      <td>False</td>\n",
       "      <td>True</td>\n",
       "      <td>2.0</td>\n",
       "      <td>True</td>\n",
       "      <td>True</td>\n",
       "      <td>True</td>\n",
       "      <td>no</td>\n",
       "      <td>Indian Restaurants</td>\n",
       "    </tr>\n",
       "    <tr>\n",
       "      <th>1</th>\n",
       "      <td>Woody's</td>\n",
       "      <td>91.0</td>\n",
       "      <td>Rosensteinstr. 22</td>\n",
       "      <td>70191</td>\n",
       "      <td>Woody's-Rosensteinstr. 22</td>\n",
       "      <td>2.261538</td>\n",
       "      <td>Woody's</td>\n",
       "      <td>full_bar</td>\n",
       "      <td>True</td>\n",
       "      <td>False</td>\n",
       "      <td>False</td>\n",
       "      <td>False</td>\n",
       "      <td>False</td>\n",
       "      <td>False</td>\n",
       "      <td>False</td>\n",
       "      <td>False</td>\n",
       "      <td>True</td>\n",
       "      <td>Rosensteinstr. 22</td>\n",
       "      <td>True</td>\n",
       "      <td>True</td>\n",
       "      <td>False</td>\n",
       "      <td>True</td>\n",
       "      <td>False</td>\n",
       "      <td>False</td>\n",
       "      <td>True</td>\n",
       "      <td>True</td>\n",
       "      <td>False</td>\n",
       "      <td>False</td>\n",
       "      <td>False</td>\n",
       "      <td>False</td>\n",
       "      <td>False</td>\n",
       "      <td>False</td>\n",
       "      <td>True</td>\n",
       "      <td>average</td>\n",
       "      <td>True</td>\n",
       "      <td>casual</td>\n",
       "      <td>False</td>\n",
       "      <td>True</td>\n",
       "      <td>2.0</td>\n",
       "      <td>True</td>\n",
       "      <td>True</td>\n",
       "      <td>True</td>\n",
       "      <td>free</td>\n",
       "      <td>American Bars Cocktail Nightlife Restaurants T...</td>\n",
       "    </tr>\n",
       "    <tr>\n",
       "      <th>2</th>\n",
       "      <td>La Bamba</td>\n",
       "      <td>18.0</td>\n",
       "      <td>606 S 6th St</td>\n",
       "      <td>61820</td>\n",
       "      <td>La Bamba-606 S 6th St</td>\n",
       "      <td>2.855556</td>\n",
       "      <td>La Bamba</td>\n",
       "      <td>none</td>\n",
       "      <td>unknown</td>\n",
       "      <td>unknown</td>\n",
       "      <td>unknown</td>\n",
       "      <td>unknown</td>\n",
       "      <td>unknown</td>\n",
       "      <td>unknown</td>\n",
       "      <td>unknown</td>\n",
       "      <td>unknown</td>\n",
       "      <td>unknown</td>\n",
       "      <td>606 S 6th St</td>\n",
       "      <td>True</td>\n",
       "      <td>False</td>\n",
       "      <td>False</td>\n",
       "      <td>False</td>\n",
       "      <td>False</td>\n",
       "      <td>False</td>\n",
       "      <td>unknown</td>\n",
       "      <td>True</td>\n",
       "      <td>False</td>\n",
       "      <td>False</td>\n",
       "      <td>False</td>\n",
       "      <td>True</td>\n",
       "      <td>True</td>\n",
       "      <td>True</td>\n",
       "      <td>unknown</td>\n",
       "      <td>unknown</td>\n",
       "      <td>False</td>\n",
       "      <td>casual</td>\n",
       "      <td>False</td>\n",
       "      <td>True</td>\n",
       "      <td>1.0</td>\n",
       "      <td>False</td>\n",
       "      <td>False</td>\n",
       "      <td>True</td>\n",
       "      <td>unknown</td>\n",
       "      <td>Mexican Restaurants</td>\n",
       "    </tr>\n",
       "  </tbody>\n",
       "</table>\n",
       "</div>"
      ],
      "text/plain": [
       "     name_x  review_count           address_x postal_code          unique restaurants  average star    name_y   Alcohol Ambience casual Ambience classy Ambience hipster Ambience intimate Ambience romantic Ambience touristy Ambience trendy Ambience upscale BikeParking           address_y BusinessAcceptsCreditCards BusinessParking garage BusinessParking lot BusinessParking street BusinessParking valet BusinessParking validated   Caters GoodForKids GoodForMeal breakfast GoodForMeal brunch  \\\n",
       "0   Kashmir          41.0  Leonberger Str. 97       71229  Kashmir-Leonberger Str. 97      3.960976   Kashmir  full_bar           False           False            False             False             False             False           False            False       False  Leonberger Str. 97                       True                  False               False                  False                 False                     False  unknown       False                 False              False   \n",
       "1   Woody's          91.0   Rosensteinstr. 22       70191   Woody's-Rosensteinstr. 22      2.261538   Woody's  full_bar            True           False            False             False             False             False           False            False        True   Rosensteinstr. 22                       True                   True               False                   True                 False                     False     True        True                 False              False   \n",
       "2  La Bamba          18.0        606 S 6th St       61820       La Bamba-606 S 6th St      2.855556  La Bamba      none         unknown         unknown          unknown           unknown           unknown           unknown         unknown          unknown     unknown        606 S 6th St                       True                  False               False                  False                 False                     False  unknown        True                 False              False   \n",
       "\n",
       "  GoodForMeal dessert GoodForMeal dinner GoodForMeal latenight GoodForMeal lunch    HasTV NoiseLevel OutdoorSeating RestaurantsAttire RestaurantsDelivery RestaurantsGoodForGroups RestaurantsPriceRange2 RestaurantsReservations RestaurantsTableService RestaurantsTakeOut     WiFi                                            Cuisine  \n",
       "0               False               True                 False             False    False      quiet          False            casual               False                     True                    2.0                    True                    True               True       no                                 Indian Restaurants  \n",
       "1               False              False                 False             False     True    average           True            casual               False                     True                    2.0                    True                    True               True     free  American Bars Cocktail Nightlife Restaurants T...  \n",
       "2               False               True                  True              True  unknown    unknown          False            casual               False                     True                    1.0                   False                   False               True  unknown                                Mexican Restaurants  "
      ]
     },
     "execution_count": 9,
     "metadata": {},
     "output_type": "execute_result"
    }
   ],
   "source": [
    "content_df.head(3)"
   ]
  },
  {
   "cell_type": "code",
   "execution_count": 10,
   "metadata": {},
   "outputs": [],
   "source": [
    "content_df.drop(['review_count', 'unique restaurants', 'name_y', 'address_y'], axis=1, inplace=True)"
   ]
  },
  {
   "cell_type": "code",
   "execution_count": 11,
   "metadata": {},
   "outputs": [
    {
     "name": "stdout",
     "output_type": "stream",
     "text": [
      "<class 'pandas.core.frame.DataFrame'>\n",
      "Int64Index: 68639 entries, 0 to 68638\n",
      "Data columns (total 40 columns):\n",
      "name_x                        68639 non-null object\n",
      "address_x                     68639 non-null object\n",
      "postal_code                   68574 non-null object\n",
      "average star                  68639 non-null float64\n",
      "Alcohol                       68639 non-null object\n",
      "Ambience casual               68639 non-null object\n",
      "Ambience classy               68639 non-null object\n",
      "Ambience hipster              68639 non-null object\n",
      "Ambience intimate             68639 non-null object\n",
      "Ambience romantic             68639 non-null object\n",
      "Ambience touristy             68639 non-null object\n",
      "Ambience trendy               68639 non-null object\n",
      "Ambience upscale              68639 non-null object\n",
      "BikeParking                   68639 non-null object\n",
      "BusinessAcceptsCreditCards    68639 non-null object\n",
      "BusinessParking garage        68639 non-null object\n",
      "BusinessParking lot           68639 non-null object\n",
      "BusinessParking street        68639 non-null object\n",
      "BusinessParking valet         68639 non-null object\n",
      "BusinessParking validated     68639 non-null object\n",
      "Caters                        68639 non-null object\n",
      "GoodForKids                   68639 non-null object\n",
      "GoodForMeal breakfast         68639 non-null object\n",
      "GoodForMeal brunch            68639 non-null object\n",
      "GoodForMeal dessert           68639 non-null object\n",
      "GoodForMeal dinner            68639 non-null object\n",
      "GoodForMeal latenight         68639 non-null object\n",
      "GoodForMeal lunch             68639 non-null object\n",
      "HasTV                         68639 non-null object\n",
      "NoiseLevel                    68639 non-null object\n",
      "OutdoorSeating                68639 non-null object\n",
      "RestaurantsAttire             68639 non-null object\n",
      "RestaurantsDelivery           68639 non-null object\n",
      "RestaurantsGoodForGroups      68639 non-null object\n",
      "RestaurantsPriceRange2        68639 non-null object\n",
      "RestaurantsReservations       68639 non-null object\n",
      "RestaurantsTableService       68639 non-null object\n",
      "RestaurantsTakeOut            68639 non-null object\n",
      "WiFi                          68639 non-null object\n",
      "Cuisine                       68639 non-null object\n",
      "dtypes: float64(1), object(39)\n",
      "memory usage: 21.5+ MB\n"
     ]
    }
   ],
   "source": [
    "content_df.info(null_counts=True)"
   ]
  },
  {
   "cell_type": "code",
   "execution_count": 12,
   "metadata": {},
   "outputs": [],
   "source": [
    "content_df.dropna(inplace=True)"
   ]
  },
  {
   "cell_type": "code",
   "execution_count": 13,
   "metadata": {},
   "outputs": [],
   "source": [
    "# First transform Cuisine column to tfidf matrix\n",
    "tfidf=TfidfVectorizer()"
   ]
  },
  {
   "cell_type": "code",
   "execution_count": 14,
   "metadata": {},
   "outputs": [],
   "source": [
    "tfidf_cuisine_matrix=tfidf.fit_transform(content_df['Cuisine'])"
   ]
  },
  {
   "cell_type": "code",
   "execution_count": 15,
   "metadata": {},
   "outputs": [
    {
     "data": {
      "text/plain": [
       "(68574, 888)"
      ]
     },
     "execution_count": 15,
     "metadata": {},
     "output_type": "execute_result"
    }
   ],
   "source": [
    "tfidf_cuisine_matrix.shape"
   ]
  },
  {
   "cell_type": "code",
   "execution_count": 17,
   "metadata": {},
   "outputs": [],
   "source": [
    "# Now use labelencoder to transform other columns into numbers also standardize the star rating column\n",
    "le=LabelEncoder()\n",
    "scaler=StandardScaler()"
   ]
  },
  {
   "cell_type": "code",
   "execution_count": 18,
   "metadata": {},
   "outputs": [],
   "source": [
    "attr_columns=[x for x in columns_to_keep if x not in ['name', 'Cuisine', 'Ambience divey', 'DogsAllowed', 'address',\n",
    "                                                      'WheelchairAccessible']]"
   ]
  },
  {
   "cell_type": "code",
   "execution_count": 19,
   "metadata": {},
   "outputs": [],
   "source": [
    "for col in attr_columns:\n",
    "    content_df[col]=le.fit_transform(content_df[col].astype(str))"
   ]
  },
  {
   "cell_type": "code",
   "execution_count": 21,
   "metadata": {},
   "outputs": [
    {
     "name": "stderr",
     "output_type": "stream",
     "text": [
      "d:\\ProgramData\\Anaconda3\\lib\\site-packages\\ipykernel_launcher.py:1: FutureWarning: reshape is deprecated and will raise in a subsequent release. Please use .values.reshape(...) instead\n",
      "  \"\"\"Entry point for launching an IPython kernel.\n"
     ]
    }
   ],
   "source": [
    "content_df['average star']=scaler.fit_transform(content_df['average star'].reshape(-1,1))"
   ]
  },
  {
   "cell_type": "code",
   "execution_count": 22,
   "metadata": {},
   "outputs": [
    {
     "data": {
      "text/html": [
       "<div>\n",
       "<style scoped>\n",
       "    .dataframe tbody tr th:only-of-type {\n",
       "        vertical-align: middle;\n",
       "    }\n",
       "\n",
       "    .dataframe tbody tr th {\n",
       "        vertical-align: top;\n",
       "    }\n",
       "\n",
       "    .dataframe thead th {\n",
       "        text-align: right;\n",
       "    }\n",
       "</style>\n",
       "<table border=\"1\" class=\"dataframe\">\n",
       "  <thead>\n",
       "    <tr style=\"text-align: right;\">\n",
       "      <th></th>\n",
       "      <th>name_x</th>\n",
       "      <th>address_x</th>\n",
       "      <th>postal_code</th>\n",
       "      <th>average star</th>\n",
       "      <th>Alcohol</th>\n",
       "      <th>Ambience casual</th>\n",
       "      <th>Ambience classy</th>\n",
       "      <th>Ambience hipster</th>\n",
       "      <th>Ambience intimate</th>\n",
       "      <th>Ambience romantic</th>\n",
       "      <th>Ambience touristy</th>\n",
       "      <th>Ambience trendy</th>\n",
       "      <th>Ambience upscale</th>\n",
       "      <th>BikeParking</th>\n",
       "      <th>BusinessAcceptsCreditCards</th>\n",
       "      <th>BusinessParking garage</th>\n",
       "      <th>BusinessParking lot</th>\n",
       "      <th>BusinessParking street</th>\n",
       "      <th>BusinessParking valet</th>\n",
       "      <th>BusinessParking validated</th>\n",
       "      <th>Caters</th>\n",
       "      <th>GoodForKids</th>\n",
       "      <th>GoodForMeal breakfast</th>\n",
       "      <th>GoodForMeal brunch</th>\n",
       "      <th>GoodForMeal dessert</th>\n",
       "      <th>GoodForMeal dinner</th>\n",
       "      <th>GoodForMeal latenight</th>\n",
       "      <th>GoodForMeal lunch</th>\n",
       "      <th>HasTV</th>\n",
       "      <th>NoiseLevel</th>\n",
       "      <th>OutdoorSeating</th>\n",
       "      <th>RestaurantsAttire</th>\n",
       "      <th>RestaurantsDelivery</th>\n",
       "      <th>RestaurantsGoodForGroups</th>\n",
       "      <th>RestaurantsPriceRange2</th>\n",
       "      <th>RestaurantsReservations</th>\n",
       "      <th>RestaurantsTableService</th>\n",
       "      <th>RestaurantsTakeOut</th>\n",
       "      <th>WiFi</th>\n",
       "      <th>Cuisine</th>\n",
       "    </tr>\n",
       "  </thead>\n",
       "  <tbody>\n",
       "    <tr>\n",
       "      <th>0</th>\n",
       "      <td>Kashmir</td>\n",
       "      <td>Leonberger Str. 97</td>\n",
       "      <td>71229</td>\n",
       "      <td>0.892481</td>\n",
       "      <td>1</td>\n",
       "      <td>0</td>\n",
       "      <td>0</td>\n",
       "      <td>0</td>\n",
       "      <td>0</td>\n",
       "      <td>0</td>\n",
       "      <td>0</td>\n",
       "      <td>0</td>\n",
       "      <td>0</td>\n",
       "      <td>0</td>\n",
       "      <td>1</td>\n",
       "      <td>0</td>\n",
       "      <td>0</td>\n",
       "      <td>0</td>\n",
       "      <td>0</td>\n",
       "      <td>0</td>\n",
       "      <td>2</td>\n",
       "      <td>0</td>\n",
       "      <td>0</td>\n",
       "      <td>0</td>\n",
       "      <td>0</td>\n",
       "      <td>1</td>\n",
       "      <td>0</td>\n",
       "      <td>0</td>\n",
       "      <td>0</td>\n",
       "      <td>2</td>\n",
       "      <td>0</td>\n",
       "      <td>0</td>\n",
       "      <td>0</td>\n",
       "      <td>1</td>\n",
       "      <td>1</td>\n",
       "      <td>1</td>\n",
       "      <td>1</td>\n",
       "      <td>1</td>\n",
       "      <td>1</td>\n",
       "      <td>Indian Restaurants</td>\n",
       "    </tr>\n",
       "    <tr>\n",
       "      <th>1</th>\n",
       "      <td>Woody's</td>\n",
       "      <td>Rosensteinstr. 22</td>\n",
       "      <td>70191</td>\n",
       "      <td>-1.138865</td>\n",
       "      <td>1</td>\n",
       "      <td>1</td>\n",
       "      <td>0</td>\n",
       "      <td>0</td>\n",
       "      <td>0</td>\n",
       "      <td>0</td>\n",
       "      <td>0</td>\n",
       "      <td>0</td>\n",
       "      <td>0</td>\n",
       "      <td>1</td>\n",
       "      <td>1</td>\n",
       "      <td>1</td>\n",
       "      <td>0</td>\n",
       "      <td>1</td>\n",
       "      <td>0</td>\n",
       "      <td>0</td>\n",
       "      <td>1</td>\n",
       "      <td>1</td>\n",
       "      <td>0</td>\n",
       "      <td>0</td>\n",
       "      <td>0</td>\n",
       "      <td>0</td>\n",
       "      <td>0</td>\n",
       "      <td>0</td>\n",
       "      <td>1</td>\n",
       "      <td>0</td>\n",
       "      <td>1</td>\n",
       "      <td>0</td>\n",
       "      <td>0</td>\n",
       "      <td>1</td>\n",
       "      <td>1</td>\n",
       "      <td>1</td>\n",
       "      <td>1</td>\n",
       "      <td>1</td>\n",
       "      <td>0</td>\n",
       "      <td>American Bars Cocktail Nightlife Restaurants T...</td>\n",
       "    </tr>\n",
       "    <tr>\n",
       "      <th>2</th>\n",
       "      <td>La Bamba</td>\n",
       "      <td>606 S 6th St</td>\n",
       "      <td>61820</td>\n",
       "      <td>-0.428834</td>\n",
       "      <td>2</td>\n",
       "      <td>2</td>\n",
       "      <td>2</td>\n",
       "      <td>2</td>\n",
       "      <td>2</td>\n",
       "      <td>2</td>\n",
       "      <td>2</td>\n",
       "      <td>2</td>\n",
       "      <td>2</td>\n",
       "      <td>2</td>\n",
       "      <td>1</td>\n",
       "      <td>0</td>\n",
       "      <td>0</td>\n",
       "      <td>0</td>\n",
       "      <td>0</td>\n",
       "      <td>0</td>\n",
       "      <td>2</td>\n",
       "      <td>1</td>\n",
       "      <td>0</td>\n",
       "      <td>0</td>\n",
       "      <td>0</td>\n",
       "      <td>1</td>\n",
       "      <td>1</td>\n",
       "      <td>1</td>\n",
       "      <td>2</td>\n",
       "      <td>3</td>\n",
       "      <td>0</td>\n",
       "      <td>0</td>\n",
       "      <td>0</td>\n",
       "      <td>1</td>\n",
       "      <td>0</td>\n",
       "      <td>0</td>\n",
       "      <td>0</td>\n",
       "      <td>1</td>\n",
       "      <td>3</td>\n",
       "      <td>Mexican Restaurants</td>\n",
       "    </tr>\n",
       "  </tbody>\n",
       "</table>\n",
       "</div>"
      ],
      "text/plain": [
       "     name_x           address_x postal_code  average star  Alcohol  Ambience casual  Ambience classy  Ambience hipster  Ambience intimate  Ambience romantic  Ambience touristy  Ambience trendy  Ambience upscale  BikeParking  BusinessAcceptsCreditCards  BusinessParking garage  BusinessParking lot  BusinessParking street  BusinessParking valet  BusinessParking validated  Caters  GoodForKids  GoodForMeal breakfast  GoodForMeal brunch  GoodForMeal dessert  GoodForMeal dinner  \\\n",
       "0   Kashmir  Leonberger Str. 97       71229      0.892481        1                0                0                 0                  0                  0                  0                0                 0            0                           1                       0                    0                       0                      0                          0       2            0                      0                   0                    0                   1   \n",
       "1   Woody's   Rosensteinstr. 22       70191     -1.138865        1                1                0                 0                  0                  0                  0                0                 0            1                           1                       1                    0                       1                      0                          0       1            1                      0                   0                    0                   0   \n",
       "2  La Bamba        606 S 6th St       61820     -0.428834        2                2                2                 2                  2                  2                  2                2                 2            2                           1                       0                    0                       0                      0                          0       2            1                      0                   0                    0                   1   \n",
       "\n",
       "   GoodForMeal latenight  GoodForMeal lunch  HasTV  NoiseLevel  OutdoorSeating  RestaurantsAttire  RestaurantsDelivery  RestaurantsGoodForGroups  RestaurantsPriceRange2  RestaurantsReservations  RestaurantsTableService  RestaurantsTakeOut  WiFi                                            Cuisine  \n",
       "0                      0                  0      0           2               0                  0                    0                         1                       1                        1                        1                   1     1                                 Indian Restaurants  \n",
       "1                      0                  0      1           0               1                  0                    0                         1                       1                        1                        1                   1     0  American Bars Cocktail Nightlife Restaurants T...  \n",
       "2                      1                  1      2           3               0                  0                    0                         1                       0                        0                        0                   1     3                                Mexican Restaurants  "
      ]
     },
     "execution_count": 22,
     "metadata": {},
     "output_type": "execute_result"
    }
   ],
   "source": [
    "content_df.head(3)"
   ]
  },
  {
   "cell_type": "code",
   "execution_count": 24,
   "metadata": {},
   "outputs": [
    {
     "data": {
      "text/plain": [
       "(68574, 35)"
      ]
     },
     "execution_count": 24,
     "metadata": {},
     "output_type": "execute_result"
    }
   ],
   "source": [
    "content_df[attr_columns].shape"
   ]
  },
  {
   "cell_type": "code",
   "execution_count": 26,
   "metadata": {},
   "outputs": [
    {
     "data": {
      "text/plain": [
       "(68574,)"
      ]
     },
     "execution_count": 26,
     "metadata": {},
     "output_type": "execute_result"
    }
   ],
   "source": [
    "content_df['average star'].shape"
   ]
  },
  {
   "cell_type": "code",
   "execution_count": 35,
   "metadata": {},
   "outputs": [],
   "source": [
    "attr_columns.remove('average star')"
   ]
  },
  {
   "cell_type": "code",
   "execution_count": 36,
   "metadata": {},
   "outputs": [
    {
     "data": {
      "text/plain": [
       "['Alcohol',\n",
       " 'Ambience casual',\n",
       " 'Ambience classy',\n",
       " 'Ambience hipster',\n",
       " 'Ambience intimate',\n",
       " 'Ambience romantic',\n",
       " 'Ambience touristy',\n",
       " 'Ambience trendy',\n",
       " 'Ambience upscale',\n",
       " 'BikeParking',\n",
       " 'BusinessAcceptsCreditCards',\n",
       " 'BusinessParking garage',\n",
       " 'BusinessParking lot',\n",
       " 'BusinessParking street',\n",
       " 'BusinessParking valet',\n",
       " 'BusinessParking validated',\n",
       " 'Caters',\n",
       " 'GoodForKids',\n",
       " 'GoodForMeal breakfast',\n",
       " 'GoodForMeal brunch',\n",
       " 'GoodForMeal dessert',\n",
       " 'GoodForMeal dinner',\n",
       " 'GoodForMeal latenight',\n",
       " 'GoodForMeal lunch',\n",
       " 'HasTV',\n",
       " 'NoiseLevel',\n",
       " 'OutdoorSeating',\n",
       " 'RestaurantsAttire',\n",
       " 'RestaurantsDelivery',\n",
       " 'RestaurantsGoodForGroups',\n",
       " 'RestaurantsPriceRange2',\n",
       " 'RestaurantsReservations',\n",
       " 'RestaurantsTableService',\n",
       " 'RestaurantsTakeOut',\n",
       " 'WiFi']"
      ]
     },
     "execution_count": 36,
     "metadata": {},
     "output_type": "execute_result"
    }
   ],
   "source": [
    "attr_columns"
   ]
  },
  {
   "cell_type": "code",
   "execution_count": 30,
   "metadata": {},
   "outputs": [],
   "source": [
    "# Now build a matrix for calculating cosine similarities\n",
    "feature_matrix=scipy.sparse.hstack((tfidf_cuisine_matrix, content_df[attr_columns].values), format='csr')"
   ]
  },
  {
   "cell_type": "code",
   "execution_count": 31,
   "metadata": {},
   "outputs": [
    {
     "data": {
      "text/plain": [
       "(68574, 924)"
      ]
     },
     "execution_count": 31,
     "metadata": {},
     "output_type": "execute_result"
    }
   ],
   "source": [
    "feature_matrix.shape"
   ]
  },
  {
   "cell_type": "code",
   "execution_count": 32,
   "metadata": {},
   "outputs": [
    {
     "data": {
      "text/plain": [
       "scipy.sparse.csr.csr_matrix"
      ]
     },
     "execution_count": 32,
     "metadata": {},
     "output_type": "execute_result"
    }
   ],
   "source": [
    "type(feature_matrix)"
   ]
  },
  {
   "cell_type": "code",
   "execution_count": null,
   "metadata": {},
   "outputs": [],
   "source": [
    "cos_matrix=cosine_similarity(feature_matrix, dense_output=False)"
   ]
  },
  {
   "cell_type": "code",
   "execution_count": 168,
   "metadata": {},
   "outputs": [],
   "source": [
    "# 6-24-18\n",
    "content_df.to_csv('content_df.csv')"
   ]
  },
  {
   "cell_type": "code",
   "execution_count": 163,
   "metadata": {},
   "outputs": [],
   "source": [
    "# Define a function that's similar to the first recommender function but output list by cosine similarities\n",
    "def content_recommender(restaurant_name, postal, n):\n",
    "    # Output restaurants based on similarities\n",
    "    tfidf=TfidfVectorizer()\n",
    "    #scaler=StandardScaler()\n",
    "    postal=str(postal)\n",
    "    if restaurant_name in content_df['name_x'].values and postal in content_df['postal_code'].values :\n",
    "        df=content_df.copy()\n",
    "        df.reset_index(inplace=True, drop=True)\n",
    "        df=df[df['postal_code']==postal]\n",
    "        df.drop_duplicates('name_x', inplace=True)\n",
    "        df.reset_index(inplace=True, drop=True)\n",
    "        cuisine_matrix=tfidf.fit_transform(df['Cuisine'])\n",
    "        for col in attr_columns:\n",
    "            df[col]=le.fit_transform(df[col].astype(str))\n",
    "        #df['average star']=scaler.fit_transform(df['average star'].values.reshape(-1,1))\n",
    "        all_attr_cols=attr_columns.append('average star')\n",
    "        feature_matrix=scipy.sparse.hstack((cuisine_matrix, df[attr_columns].values), format='csr')\n",
    "        cos_matrix=cosine_similarity(feature_matrix)\n",
    "        cos_df=pd.DataFrame(cos_matrix, index=range(cos_matrix.shape[0]), columns=df['name_x'].values)\n",
    "        cos_df=pd.concat([cos_df, df[['name_x', 'address_x', 'Cuisine']]], axis=1)\n",
    "        #top_res=np.array(cos_df.index)[[np.argsort(cos_df[restaurant_name].values)[::-1]]]\n",
    "        top_res=cos_df.sort_values(restaurant_name, ascending=False)\n",
    "        top_res.drop_duplicates('name_x', inplace=True)\n",
    "        top_n_res=top_res.iloc[1:n+1, :]\n",
    "        top_n_res=top_n_res[['name_x', 'address_x', 'Cuisine']]\n",
    "        top_n_res.reset_index(drop=True, inplace=True)\n",
    "        top_n_res.columns=['Name', 'Address', 'Cuisine']\n",
    "        top_n_res.index=range(1, n+1)\n",
    "        top_n_res.index.name=None\n",
    "    else:\n",
    "        top_n_res='The restaurant you entered was not found in our database. We will add it in the future'\n",
    "    return(print('Recommended restaurants are: \\n'), display(top_n_res))"
   ]
  },
  {
   "cell_type": "code",
   "execution_count": 164,
   "metadata": {},
   "outputs": [
    {
     "name": "stdout",
     "output_type": "stream",
     "text": [
      "Recommended restaurants are: \n",
      "\n"
     ]
    },
    {
     "data": {
      "text/html": [
       "<div>\n",
       "<style scoped>\n",
       "    .dataframe tbody tr th:only-of-type {\n",
       "        vertical-align: middle;\n",
       "    }\n",
       "\n",
       "    .dataframe tbody tr th {\n",
       "        vertical-align: top;\n",
       "    }\n",
       "\n",
       "    .dataframe thead th {\n",
       "        text-align: right;\n",
       "    }\n",
       "</style>\n",
       "<table border=\"1\" class=\"dataframe\">\n",
       "  <thead>\n",
       "    <tr style=\"text-align: right;\">\n",
       "      <th></th>\n",
       "      <th>Name</th>\n",
       "      <th>Address</th>\n",
       "      <th>Cuisine</th>\n",
       "    </tr>\n",
       "  </thead>\n",
       "  <tbody>\n",
       "    <tr>\n",
       "      <th>1</th>\n",
       "      <td>Valentin's Bistro</td>\n",
       "      <td>Marktplatz 5</td>\n",
       "      <td>Bistros Restaurants</td>\n",
       "    </tr>\n",
       "    <tr>\n",
       "      <th>2</th>\n",
       "      <td>nah und gut Alsadi</td>\n",
       "      <td>In den Ziegelwiesen 7</td>\n",
       "      <td>Food Grocery Shopping</td>\n",
       "    </tr>\n",
       "    <tr>\n",
       "      <th>3</th>\n",
       "      <td>China-Restaurant Jasmin</td>\n",
       "      <td>Eltinger Str. 5</td>\n",
       "      <td>Chinese Restaurants</td>\n",
       "    </tr>\n",
       "    <tr>\n",
       "      <th>4</th>\n",
       "      <td>Don Giovanni</td>\n",
       "      <td>Niederhofenstr. 64</td>\n",
       "      <td>Italian Pizza Restaurants</td>\n",
       "    </tr>\n",
       "    <tr>\n",
       "      <th>5</th>\n",
       "      <td>Restaurant Glemseck</td>\n",
       "      <td>Glemseck 1</td>\n",
       "      <td>German Restaurants</td>\n",
       "    </tr>\n",
       "  </tbody>\n",
       "</table>\n",
       "</div>"
      ],
      "text/plain": [
       "                      Name                Address                    Cuisine\n",
       "1        Valentin's Bistro           Marktplatz 5        Bistros Restaurants\n",
       "2       nah und gut Alsadi  In den Ziegelwiesen 7      Food Grocery Shopping\n",
       "3  China-Restaurant Jasmin        Eltinger Str. 5        Chinese Restaurants\n",
       "4             Don Giovanni     Niederhofenstr. 64  Italian Pizza Restaurants\n",
       "5      Restaurant Glemseck             Glemseck 1         German Restaurants"
      ]
     },
     "metadata": {},
     "output_type": "display_data"
    },
    {
     "data": {
      "text/plain": [
       "(None, None)"
      ]
     },
     "execution_count": 164,
     "metadata": {},
     "output_type": "execute_result"
    }
   ],
   "source": [
    "# Test the recommender\n",
    "content_recommender('Kashmir', 71229, 5)"
   ]
  },
  {
   "cell_type": "code",
   "execution_count": 165,
   "metadata": {},
   "outputs": [
    {
     "name": "stdout",
     "output_type": "stream",
     "text": [
      "Recommended restaurants are: \n",
      "\n"
     ]
    },
    {
     "data": {
      "text/html": [
       "<div>\n",
       "<style scoped>\n",
       "    .dataframe tbody tr th:only-of-type {\n",
       "        vertical-align: middle;\n",
       "    }\n",
       "\n",
       "    .dataframe tbody tr th {\n",
       "        vertical-align: top;\n",
       "    }\n",
       "\n",
       "    .dataframe thead th {\n",
       "        text-align: right;\n",
       "    }\n",
       "</style>\n",
       "<table border=\"1\" class=\"dataframe\">\n",
       "  <thead>\n",
       "    <tr style=\"text-align: right;\">\n",
       "      <th></th>\n",
       "      <th>Name</th>\n",
       "      <th>Address</th>\n",
       "      <th>Cuisine</th>\n",
       "    </tr>\n",
       "  </thead>\n",
       "  <tbody>\n",
       "    <tr>\n",
       "      <th>1</th>\n",
       "      <td>Pizza Hut</td>\n",
       "      <td>411 E Green St</td>\n",
       "      <td>Chicken Italian Pizza Restaurants Wings</td>\n",
       "    </tr>\n",
       "    <tr>\n",
       "      <th>2</th>\n",
       "      <td>Wood N' Hog Barbecue</td>\n",
       "      <td>904 N 4th St, Ste B</td>\n",
       "      <td>Barbeque Chicken Restaurants Wings</td>\n",
       "    </tr>\n",
       "    <tr>\n",
       "      <th>3</th>\n",
       "      <td>Sliders</td>\n",
       "      <td>616 E Green St</td>\n",
       "      <td>Burgers Restaurants</td>\n",
       "    </tr>\n",
       "    <tr>\n",
       "      <th>4</th>\n",
       "      <td>Pancheros Mexican Grill</td>\n",
       "      <td>2009 S Neil St</td>\n",
       "      <td>Mexican Restaurants</td>\n",
       "    </tr>\n",
       "    <tr>\n",
       "      <th>5</th>\n",
       "      <td>Chopstix</td>\n",
       "      <td>202 E Green St, Ste 1</td>\n",
       "      <td>Chinese Restaurants</td>\n",
       "    </tr>\n",
       "    <tr>\n",
       "      <th>6</th>\n",
       "      <td>Drew's Pizza</td>\n",
       "      <td>508 E Green St</td>\n",
       "      <td>Pizza Restaurants</td>\n",
       "    </tr>\n",
       "    <tr>\n",
       "      <th>7</th>\n",
       "      <td>Layalina Mediterranean Grill</td>\n",
       "      <td>40 E Springfield Ave</td>\n",
       "      <td>Mediterranean Restaurants</td>\n",
       "    </tr>\n",
       "    <tr>\n",
       "      <th>8</th>\n",
       "      <td>Domino's Pizza</td>\n",
       "      <td>102 E Green St</td>\n",
       "      <td>Chicken Italian Pizza Restaurants Sandwiches W...</td>\n",
       "    </tr>\n",
       "    <tr>\n",
       "      <th>9</th>\n",
       "      <td>Prime Time Pizza</td>\n",
       "      <td>505 E University Ave</td>\n",
       "      <td>Pizza Restaurants</td>\n",
       "    </tr>\n",
       "    <tr>\n",
       "      <th>10</th>\n",
       "      <td>M Sushi &amp; Grill</td>\n",
       "      <td>715 S Neil St, Ste A</td>\n",
       "      <td>Asian Bars Fusion Japanese Korean Restaurants ...</td>\n",
       "    </tr>\n",
       "  </tbody>\n",
       "</table>\n",
       "</div>"
      ],
      "text/plain": [
       "                            Name                Address                                            Cuisine\n",
       "1                      Pizza Hut         411 E Green St            Chicken Italian Pizza Restaurants Wings\n",
       "2           Wood N' Hog Barbecue    904 N 4th St, Ste B                 Barbeque Chicken Restaurants Wings\n",
       "3                        Sliders         616 E Green St                                Burgers Restaurants\n",
       "4        Pancheros Mexican Grill         2009 S Neil St                                Mexican Restaurants\n",
       "5                       Chopstix  202 E Green St, Ste 1                                Chinese Restaurants\n",
       "6                   Drew's Pizza         508 E Green St                                  Pizza Restaurants\n",
       "7   Layalina Mediterranean Grill   40 E Springfield Ave                          Mediterranean Restaurants\n",
       "8                 Domino's Pizza         102 E Green St  Chicken Italian Pizza Restaurants Sandwiches W...\n",
       "9               Prime Time Pizza   505 E University Ave                                  Pizza Restaurants\n",
       "10               M Sushi & Grill   715 S Neil St, Ste A  Asian Bars Fusion Japanese Korean Restaurants ..."
      ]
     },
     "metadata": {},
     "output_type": "display_data"
    },
    {
     "data": {
      "text/plain": [
       "(None, None)"
      ]
     },
     "execution_count": 165,
     "metadata": {},
     "output_type": "execute_result"
    }
   ],
   "source": [
    "# Test again as a sanity check (pizza place is easy to find similar ones)\n",
    "content_recommender(\"Papa John's Pizza\", 61820, 10)"
   ]
  },
  {
   "cell_type": "code",
   "execution_count": 167,
   "metadata": {},
   "outputs": [
    {
     "name": "stdout",
     "output_type": "stream",
     "text": [
      "Recommended restaurants are: \n",
      "\n"
     ]
    },
    {
     "data": {
      "text/html": [
       "<div>\n",
       "<style scoped>\n",
       "    .dataframe tbody tr th:only-of-type {\n",
       "        vertical-align: middle;\n",
       "    }\n",
       "\n",
       "    .dataframe tbody tr th {\n",
       "        vertical-align: top;\n",
       "    }\n",
       "\n",
       "    .dataframe thead th {\n",
       "        text-align: right;\n",
       "    }\n",
       "</style>\n",
       "<table border=\"1\" class=\"dataframe\">\n",
       "  <thead>\n",
       "    <tr style=\"text-align: right;\">\n",
       "      <th></th>\n",
       "      <th>Name</th>\n",
       "      <th>Address</th>\n",
       "      <th>Cuisine</th>\n",
       "    </tr>\n",
       "  </thead>\n",
       "  <tbody>\n",
       "    <tr>\n",
       "      <th>1</th>\n",
       "      <td>Phoenix Coffee</td>\n",
       "      <td>2287 Lee Rd</td>\n",
       "      <td>Coffee Food Tea</td>\n",
       "    </tr>\n",
       "    <tr>\n",
       "      <th>2</th>\n",
       "      <td>Zero Below</td>\n",
       "      <td>1844 Coventry Rd</td>\n",
       "      <td>Cream Desserts Food Frozen Ice Yogurt</td>\n",
       "    </tr>\n",
       "    <tr>\n",
       "      <th>3</th>\n",
       "      <td>Piccadilly Artisan Yogurt</td>\n",
       "      <td>1767 Coventry Rd</td>\n",
       "      <td>Cream Food Frozen Ice Yogurt</td>\n",
       "    </tr>\n",
       "    <tr>\n",
       "      <th>4</th>\n",
       "      <td>Phoenix Coffee Company</td>\n",
       "      <td>1854 Coventry Rd</td>\n",
       "      <td>Coffee Food Rooms Tea</td>\n",
       "    </tr>\n",
       "    <tr>\n",
       "      <th>5</th>\n",
       "      <td>Walgreens</td>\n",
       "      <td>3020 Mayfield Rd</td>\n",
       "      <td>Beauty Convenience Cosmetics Drugstores Food P...</td>\n",
       "    </tr>\n",
       "    <tr>\n",
       "      <th>6</th>\n",
       "      <td>KiwiSpoon Frozen Yogurt</td>\n",
       "      <td>1854 Coventry Rd, Ste C</td>\n",
       "      <td>Cream Food Frozen Ice Yogurt</td>\n",
       "    </tr>\n",
       "    <tr>\n",
       "      <th>7</th>\n",
       "      <td>Mitchell's Fine Chocolates</td>\n",
       "      <td>2285 Lee Rd</td>\n",
       "      <td>Candy Chocolatiers Food Shops Specialty Stores</td>\n",
       "    </tr>\n",
       "    <tr>\n",
       "      <th>8</th>\n",
       "      <td>The Sweet Fix Bakery</td>\n",
       "      <td>2307 Lee Rd</td>\n",
       "      <td>Bakeries Food</td>\n",
       "    </tr>\n",
       "    <tr>\n",
       "      <th>9</th>\n",
       "      <td>Bialy's Bagels</td>\n",
       "      <td>2267 Warrensville Ctr Rd</td>\n",
       "      <td>Bagels Food</td>\n",
       "    </tr>\n",
       "    <tr>\n",
       "      <th>10</th>\n",
       "      <td>Ben &amp; Jerry's</td>\n",
       "      <td>20650 N Park Blvd</td>\n",
       "      <td>Cream Desserts Food Frozen Ice Yogurt</td>\n",
       "    </tr>\n",
       "  </tbody>\n",
       "</table>\n",
       "</div>"
      ],
      "text/plain": [
       "                          Name                   Address                                            Cuisine\n",
       "1               Phoenix Coffee               2287 Lee Rd                                    Coffee Food Tea\n",
       "2                   Zero Below          1844 Coventry Rd              Cream Desserts Food Frozen Ice Yogurt\n",
       "3    Piccadilly Artisan Yogurt          1767 Coventry Rd                       Cream Food Frozen Ice Yogurt\n",
       "4       Phoenix Coffee Company          1854 Coventry Rd                              Coffee Food Rooms Tea\n",
       "5                    Walgreens          3020 Mayfield Rd  Beauty Convenience Cosmetics Drugstores Food P...\n",
       "6      KiwiSpoon Frozen Yogurt   1854 Coventry Rd, Ste C                       Cream Food Frozen Ice Yogurt\n",
       "7   Mitchell's Fine Chocolates               2285 Lee Rd     Candy Chocolatiers Food Shops Specialty Stores\n",
       "8         The Sweet Fix Bakery               2307 Lee Rd                                      Bakeries Food\n",
       "9               Bialy's Bagels  2267 Warrensville Ctr Rd                                        Bagels Food\n",
       "10               Ben & Jerry's         20650 N Park Blvd              Cream Desserts Food Frozen Ice Yogurt"
      ]
     },
     "metadata": {},
     "output_type": "display_data"
    },
    {
     "data": {
      "text/plain": [
       "(None, None)"
      ]
     },
     "execution_count": 167,
     "metadata": {},
     "output_type": "execute_result"
    }
   ],
   "source": [
    "# Test again.\n",
    "content_recommender('Starbucks', 44118, 10)"
   ]
  },
  {
   "cell_type": "markdown",
   "metadata": {},
   "source": [
    "<b style='font-size:200%;'>3. Collaborative Filtering (CF) recommendation system.</b>"
   ]
  },
  {
   "cell_type": "markdown",
   "metadata": {},
   "source": [
    "The third recommendation system I am going to build is collaborative filtering. I will use restaurant/restaurant and user/restaurant methods to find recommendations."
   ]
  },
  {
   "cell_type": "code",
   "execution_count": 3,
   "metadata": {},
   "outputs": [],
   "source": [
    "# First transform the data into user rows and restaurant columns format\n",
    "user_item_rating=restaurants.copy()[['user_id', 'business_id', 'stars_x']]"
   ]
  },
  {
   "cell_type": "code",
   "execution_count": 4,
   "metadata": {},
   "outputs": [
    {
     "data": {
      "text/html": [
       "<div>\n",
       "<style scoped>\n",
       "    .dataframe tbody tr th:only-of-type {\n",
       "        vertical-align: middle;\n",
       "    }\n",
       "\n",
       "    .dataframe tbody tr th {\n",
       "        vertical-align: top;\n",
       "    }\n",
       "\n",
       "    .dataframe thead th {\n",
       "        text-align: right;\n",
       "    }\n",
       "</style>\n",
       "<table border=\"1\" class=\"dataframe\">\n",
       "  <thead>\n",
       "    <tr style=\"text-align: right;\">\n",
       "      <th></th>\n",
       "      <th>user_id</th>\n",
       "      <th>business_id</th>\n",
       "      <th>stars_x</th>\n",
       "    </tr>\n",
       "    <tr>\n",
       "      <th>date</th>\n",
       "      <th></th>\n",
       "      <th></th>\n",
       "      <th></th>\n",
       "    </tr>\n",
       "  </thead>\n",
       "  <tbody>\n",
       "    <tr>\n",
       "      <th>2004-07-22</th>\n",
       "      <td>le_brG6cwrzvWdKEGqA7YA</td>\n",
       "      <td>uz7UbvVUwsg68Rok6kbqRg</td>\n",
       "      <td>5</td>\n",
       "    </tr>\n",
       "    <tr>\n",
       "      <th>2004-09-15</th>\n",
       "      <td>w_6miJytUt6z8oRkGjVG-A</td>\n",
       "      <td>9X-43jnj6-6ZBuBdFm7BLA</td>\n",
       "      <td>2</td>\n",
       "    </tr>\n",
       "    <tr>\n",
       "      <th>2004-10-12</th>\n",
       "      <td>sE3ge33huDcNJGW3V4obww</td>\n",
       "      <td>PD2MAlYYi9HCqPH7IBKwTg</td>\n",
       "      <td>5</td>\n",
       "    </tr>\n",
       "    <tr>\n",
       "      <th>2004-10-19</th>\n",
       "      <td>nkN_do3fJ9xekchVC-v68A</td>\n",
       "      <td>oYMsq2Xvzw6UbrIlMWjb-A</td>\n",
       "      <td>4</td>\n",
       "    </tr>\n",
       "    <tr>\n",
       "      <th>2004-10-19</th>\n",
       "      <td>c6HT44PKCaXqzN_BdgKPCw</td>\n",
       "      <td>u8C8pRvaHXg3PgDrsUHJHQ</td>\n",
       "      <td>5</td>\n",
       "    </tr>\n",
       "  </tbody>\n",
       "</table>\n",
       "</div>"
      ],
      "text/plain": [
       "                           user_id             business_id  stars_x\n",
       "date                                                               \n",
       "2004-07-22  le_brG6cwrzvWdKEGqA7YA  uz7UbvVUwsg68Rok6kbqRg        5\n",
       "2004-09-15  w_6miJytUt6z8oRkGjVG-A  9X-43jnj6-6ZBuBdFm7BLA        2\n",
       "2004-10-12  sE3ge33huDcNJGW3V4obww  PD2MAlYYi9HCqPH7IBKwTg        5\n",
       "2004-10-19  nkN_do3fJ9xekchVC-v68A  oYMsq2Xvzw6UbrIlMWjb-A        4\n",
       "2004-10-19  c6HT44PKCaXqzN_BdgKPCw  u8C8pRvaHXg3PgDrsUHJHQ        5"
      ]
     },
     "execution_count": 4,
     "metadata": {},
     "output_type": "execute_result"
    }
   ],
   "source": [
    "user_item_rating.head()"
   ]
  },
  {
   "cell_type": "code",
   "execution_count": 5,
   "metadata": {},
   "outputs": [
    {
     "name": "stdout",
     "output_type": "stream",
     "text": [
      "<class 'pandas.core.frame.DataFrame'>\n",
      "DatetimeIndex: 3540134 entries, 2004-07-22 to 2017-12-11\n",
      "Data columns (total 3 columns):\n",
      "user_id        3540133 non-null object\n",
      "business_id    3540134 non-null object\n",
      "stars_x        3540134 non-null int64\n",
      "dtypes: int64(1), object(2)\n",
      "memory usage: 108.0+ MB\n"
     ]
    }
   ],
   "source": [
    "user_item_rating.info(null_counts=True)"
   ]
  },
  {
   "cell_type": "code",
   "execution_count": 5,
   "metadata": {},
   "outputs": [],
   "source": [
    "user_item_rating.dropna(inplace=True)\n",
    "user_item_rating.reset_index(inplace=True, drop=True)"
   ]
  },
  {
   "cell_type": "code",
   "execution_count": 6,
   "metadata": {},
   "outputs": [],
   "source": [
    "user_item_rating['User Restaurant Pair']=[x+y for x, y in zip(user_item_rating['user_id'].values, \n",
    "                                                              user_item_rating['business_id'].values)]"
   ]
  },
  {
   "cell_type": "code",
   "execution_count": 7,
   "metadata": {},
   "outputs": [
    {
     "data": {
      "text/plain": [
       "n9LehSQoQRnYk_g6IfKVFgUmZdQID7QJoyg2R92mK3HA    1\n",
       "dExVcEIfWkaqYKkMsRYxfAxdD3EXvF_p9WUiwwKpol_w    1\n",
       "wxu6RAQqre73_id5lALttAq2PUogtjncgsNn-pLzw5HQ    1\n",
       "EDe9TDxjQulNGKICLs4uwQCXFARDJEpOreI9Xyxzl8Yw    1\n",
       "MS5160dww4tX3x03cfk3jALs89UV4aSRE8eW2Pj_LaWg    1\n",
       "GVFSUXBPUzUu6BU37dmixQb_xFN9mtFWHUbny-GoiErQ    1\n",
       "pv6iucL4vcT4Bm69nd477gD7Wv_B7GBbrx-EDfgxDwRA    1\n",
       "sKe7VxOXyAr3IZ69SyHtuQ_w5hBpkjHs5_Hv3pLeHtIw    1\n",
       "g9BfS5P5OZe8UtSLdVFQ0Q7LBVI9euGV3ugO0-efZHvg    1\n",
       "RUxmQJCEiQT4b5JV9dVccwebL8hN0iieaa3rClnDfLlw    1\n",
       "fQonrHZqMX_jjide5080Jwgx2yPrOJSwF1ApJYdGBWIw    1\n",
       "gre9OK5iWNnDWt7AIis_kQL5VPrCwatTgGUrfU9y4ItA    1\n",
       "MDc00oCXZWo78vIP9ikdQQaTVssbSnSHOUitXjfyCWZg    1\n",
       "ePfhvRM-deQgMduESHRWDgmnwRtuVQEsIUomBchu0gwg    1\n",
       "-0PZxOXJcG6brIiRhjkungRU2VtVZG8to-XVEHD-2qag    1\n",
       "84F_UxRVby3WqFIxt3Wshg1dhPgc7E7IzzpxjHM2LphQ    1\n",
       "Z6DDKkU0Zlh2bFv420A1rQ1aVqiz43klXaFJUUx0H5fw    1\n",
       "-FDKN7C_nD5-6O0AJzR1_wo13eH93qmWVNFZogkjhd9w    1\n",
       "M0egdMEYFdz50HJ-DJwWxgeLFfWcdb7VkqNyTONksHiQ    1\n",
       "_6Zg4ukwS0kst9UtkfVw3wVxZQKw6fJzJUW14v4dWKXg    1\n",
       "fh1VFh7dAydg1g6Bv1IcIg7ibuDLfx8gEhESAufYIySw    1\n",
       "L4qTcN8qRw62ZSrHvUg1uw20n09j__6xb7JX0xe9Oo9A    1\n",
       "D8dPpluP1JEfnvvkAkXswQnNqQgldcRBkKpjikX9ENNw    1\n",
       "qWdQo-s7zAOwLS9W0MxTggQUPP3oVVmdrWof2rGx4HIA    1\n",
       "GnAlF-WAme946eXouIicNAj_prxgHnMvuRdrGjAI9qXQ    1\n",
       "JFLLKfQLk4Pfvu0UzMfheAOjpZ3piwJ-ARzHeUVlngTQ    1\n",
       "fHcIDKSv5QwuzWIVMqvrNw6NFI8nSKod7qtxfsRUJpVw    1\n",
       "bLbSNkLggFnqwNNzzq-IjwYRyYbOSwvHkZsZOLv98oQg    1\n",
       "tLsU7bT6zbPdeT-4wA6B4Q9fTDeI6mApFX52qYJ8z0mw    1\n",
       "Q4Y_A0-Mqi6K_HQVRtyM-QVyVIneSU7XAWgMBllI6LnQ    1\n",
       "                                               ..\n",
       "MMx9hAyIVYdFP5mSAoqXogQ7m8G4579-XYKV3LMW8V7g    1\n",
       "iQJwqNkLcmHAiSFj8VdSQQnJcyfIRGbI31EGLzillWYg    1\n",
       "JqLGx2zcKVd6YhctqWCNBgARWLV46iIa3Dvt1y8-SPpA    1\n",
       "znAR5lpHLtXpBJEJ04teSwK5jY2W5Q3eNnwssV5UZtow    1\n",
       "FGQsurXGji1miJPYV8JqlwFVT-2utBQTT3ihYHnVEmxw    1\n",
       "wU6Vlp3pTuG8iC9oVRVrDw8B1Hi9253IICz8-5Aw5qrw    1\n",
       "mNZzd9WI0vI11lKeV80wKANqs4_gT6nKyeTOJ_rgu1mg    1\n",
       "Pi5fhGCEoQJO2LFzPXPGTAxfWdUmrz2ha3rcigyITV0g    1\n",
       "qq08QJT0jfwn46C7SSnJ5AhIgGkG1JnHX4xmVuOgegDw    1\n",
       "HJj82f-csBI7jjgenwqhvwGmwpYbZBpKn6K5SuQffT6A    1\n",
       "Opk8dTyMY45whGAERNngIghmwgWMDhYK8UHZu75FifPw    1\n",
       "1AHoOE3_GNFkhw5k4gmV7AljUba4BS4SgzlVYznuMrQQ    1\n",
       "xlrbrZJr9f7flFjUzWsuPQHb8pO9jpr4IeB6cFcVZxxA    1\n",
       "Xb4eyB8_H0l8M8ry1EAFjg_WvEXsx2eZ53lTWHlIx9kg    1\n",
       "eehvRZ4Jw34FPDqMH3GE7QRXt8vnnEmTfykvfDaeyhBA    1\n",
       "ITtTLGkXBcMMg4SWOuZH1wSvvlCUw6dzQM1uB6-y-ehA    1\n",
       "-Z6AmWQGhx2tZKIBg5AvfAIcj9QzQxqvzOmPm_liAq1Q    1\n",
       "3AruyiYVoHSBy9X-Y4s9tAGpX1PmgplBrG_DLiJVDC-g    1\n",
       "19Dr_YkV5e-Znr8Z6Ef2ngE3qxMkbKxQR6Aca36c53GA    1\n",
       "CpuO-YzLVqRG5L-UvwiQdQXg5qEQiB-7L6kGJ5F4K3bQ    1\n",
       "twkMzQGzP3umqj3VjoiZKQiBPSrhDr7IlfMywxCIp-wA    1\n",
       "e5mqMjKMdO_1t5XDfyqSxQzKCgTuzIk8YKWetik8GANg    1\n",
       "M7QpkKeiTq3QOMjxl3jO9wLYpujMCxfrHcSO_NA1BRQg    1\n",
       "3dbkO9K5vcvJXuKrVu4BMAgtB-1QxTscdPj78UE5sWuQ    1\n",
       "QQ7sxRNs0A4uFK6pQE4AYwngjl1kOSXpdP38gZHCGY5Q    1\n",
       "q6eks8g-8ve1AXMh1MTKJAAnOb3EDRIwfVayPWddr78g    1\n",
       "Iyiffb5zHebJK1uG_2H--gAMM3qOH9DUQzJHm9Q3vHag    1\n",
       "eUpfvPufEHIZ2BgpKbupqwRTegy5CUBpMK65pr8UeDgA    1\n",
       "8O-ekBFWQS9mkAyhLx4C9wbIl02CY-4wSCCGxxeMOsig    1\n",
       "e92yIAJ3Cpmp8BV0NsS7LAQqh2cFO1bk5TQ8mWIEjbCw    1\n",
       "Name: User Restaurant Pair, Length: 3540133, dtype: int64"
      ]
     },
     "execution_count": 7,
     "metadata": {},
     "output_type": "execute_result"
    }
   ],
   "source": [
    "user_item_rating['User Restaurant Pair'].value_counts()"
   ]
  },
  {
   "cell_type": "code",
   "execution_count": 8,
   "metadata": {},
   "outputs": [],
   "source": [
    "user_item_rating.drop('User Restaurant Pair', axis=1, inplace=True)"
   ]
  },
  {
   "cell_type": "code",
   "execution_count": 9,
   "metadata": {},
   "outputs": [],
   "source": [
    "user_item_rating.to_csv('yelp/user_item_rating.csv')"
   ]
  },
  {
   "cell_type": "markdown",
   "metadata": {},
   "source": [
    "Creating a large pivot table for the user/item format will cause memory error and no sparse pivot table currently exists. I will use data from on state and demonstrate the method."
   ]
  },
  {
   "cell_type": "code",
   "execution_count": 14,
   "metadata": {},
   "outputs": [
    {
     "name": "stderr",
     "output_type": "stream",
     "text": [
      "d:\\ProgramData\\Anaconda3\\lib\\site-packages\\numpy\\lib\\arraysetops.py:466: FutureWarning: elementwise comparison failed; returning scalar instead, but in the future will perform elementwise comparison\n",
      "  mask |= (ar1 == a)\n"
     ]
    }
   ],
   "source": [
    "# 7-5-18\n",
    "user_item_rating=pd.read_csv('yelp/user_item_rating.csv', index_col=0)"
   ]
  },
  {
   "cell_type": "code",
   "execution_count": 6,
   "metadata": {},
   "outputs": [
    {
     "data": {
      "text/html": [
       "<div>\n",
       "<style scoped>\n",
       "    .dataframe tbody tr th:only-of-type {\n",
       "        vertical-align: middle;\n",
       "    }\n",
       "\n",
       "    .dataframe tbody tr th {\n",
       "        vertical-align: top;\n",
       "    }\n",
       "\n",
       "    .dataframe thead th {\n",
       "        text-align: right;\n",
       "    }\n",
       "</style>\n",
       "<table border=\"1\" class=\"dataframe\">\n",
       "  <thead>\n",
       "    <tr style=\"text-align: right;\">\n",
       "      <th></th>\n",
       "      <th>user_id</th>\n",
       "      <th>business_id</th>\n",
       "      <th>stars_x</th>\n",
       "    </tr>\n",
       "  </thead>\n",
       "  <tbody>\n",
       "    <tr>\n",
       "      <th>0</th>\n",
       "      <td>le_brG6cwrzvWdKEGqA7YA</td>\n",
       "      <td>uz7UbvVUwsg68Rok6kbqRg</td>\n",
       "      <td>5</td>\n",
       "    </tr>\n",
       "    <tr>\n",
       "      <th>1</th>\n",
       "      <td>w_6miJytUt6z8oRkGjVG-A</td>\n",
       "      <td>9X-43jnj6-6ZBuBdFm7BLA</td>\n",
       "      <td>2</td>\n",
       "    </tr>\n",
       "    <tr>\n",
       "      <th>2</th>\n",
       "      <td>sE3ge33huDcNJGW3V4obww</td>\n",
       "      <td>PD2MAlYYi9HCqPH7IBKwTg</td>\n",
       "      <td>5</td>\n",
       "    </tr>\n",
       "    <tr>\n",
       "      <th>3</th>\n",
       "      <td>nkN_do3fJ9xekchVC-v68A</td>\n",
       "      <td>oYMsq2Xvzw6UbrIlMWjb-A</td>\n",
       "      <td>4</td>\n",
       "    </tr>\n",
       "    <tr>\n",
       "      <th>4</th>\n",
       "      <td>c6HT44PKCaXqzN_BdgKPCw</td>\n",
       "      <td>u8C8pRvaHXg3PgDrsUHJHQ</td>\n",
       "      <td>5</td>\n",
       "    </tr>\n",
       "  </tbody>\n",
       "</table>\n",
       "</div>"
      ],
      "text/plain": [
       "                  user_id             business_id  stars_x\n",
       "0  le_brG6cwrzvWdKEGqA7YA  uz7UbvVUwsg68Rok6kbqRg        5\n",
       "1  w_6miJytUt6z8oRkGjVG-A  9X-43jnj6-6ZBuBdFm7BLA        2\n",
       "2  sE3ge33huDcNJGW3V4obww  PD2MAlYYi9HCqPH7IBKwTg        5\n",
       "3  nkN_do3fJ9xekchVC-v68A  oYMsq2Xvzw6UbrIlMWjb-A        4\n",
       "4  c6HT44PKCaXqzN_BdgKPCw  u8C8pRvaHXg3PgDrsUHJHQ        5"
      ]
     },
     "execution_count": 6,
     "metadata": {},
     "output_type": "execute_result"
    }
   ],
   "source": [
    "user_item_rating.head()"
   ]
  },
  {
   "cell_type": "code",
   "execution_count": 4,
   "metadata": {},
   "outputs": [
    {
     "name": "stdout",
     "output_type": "stream",
     "text": [
      "<class 'pandas.core.frame.DataFrame'>\n",
      "Int64Index: 3540133 entries, 0 to 3540132\n",
      "Data columns (total 3 columns):\n",
      "user_id        3540133 non-null object\n",
      "business_id    3540133 non-null object\n",
      "stars_x        3540133 non-null int64\n",
      "dtypes: int64(1), object(2)\n",
      "memory usage: 108.0+ MB\n"
     ]
    }
   ],
   "source": [
    "user_item_rating.info(null_counts=True)"
   ]
  },
  {
   "cell_type": "code",
   "execution_count": 15,
   "metadata": {},
   "outputs": [],
   "source": [
    "# I will use surprise package to build callaborative filtering models\n",
    "from surprise import NormalPredictor, Dataset, Reader, SVD, accuracy, KNNBasic\n",
    "from surprise.model_selection import cross_validate\n",
    "from surprise.model_selection import train_test_split as tts"
   ]
  },
  {
   "cell_type": "code",
   "execution_count": 16,
   "metadata": {},
   "outputs": [],
   "source": [
    "# The full data set will cause a memory problem when buiding training and test data sets, so I will take a subset for this.\n",
    "sub_set=user_item_rating.sample(5000, axis=0)"
   ]
  },
  {
   "cell_type": "code",
   "execution_count": 3,
   "metadata": {},
   "outputs": [],
   "source": [
    "# I need to make a dictionary to map the business ids to actual restaurant names\n",
    "rest_name_dict=dict(zip(restaurants['business_id'], restaurants['name']))"
   ]
  },
  {
   "cell_type": "code",
   "execution_count": 14,
   "metadata": {},
   "outputs": [
    {
     "data": {
      "text/plain": [
       "['yelp/rest_name_dict.pkl']"
      ]
     },
     "execution_count": 14,
     "metadata": {},
     "output_type": "execute_result"
    }
   ],
   "source": [
    "joblib.dump(rest_name_dict, 'yelp/rest_name_dict.pkl')"
   ]
  },
  {
   "cell_type": "code",
   "execution_count": 7,
   "metadata": {},
   "outputs": [],
   "source": [
    "rest_name_dict=joblib.load('yelp/rest_name_dict.pkl')"
   ]
  },
  {
   "cell_type": "code",
   "execution_count": 17,
   "metadata": {},
   "outputs": [],
   "source": [
    "# Convert business_id to restaurant names\n",
    "sub_set['business_id']=sub_set['business_id'].map(rest_name_dict)"
   ]
  },
  {
   "cell_type": "code",
   "execution_count": 18,
   "metadata": {},
   "outputs": [
    {
     "data": {
      "text/html": [
       "<div>\n",
       "<style scoped>\n",
       "    .dataframe tbody tr th:only-of-type {\n",
       "        vertical-align: middle;\n",
       "    }\n",
       "\n",
       "    .dataframe tbody tr th {\n",
       "        vertical-align: top;\n",
       "    }\n",
       "\n",
       "    .dataframe thead th {\n",
       "        text-align: right;\n",
       "    }\n",
       "</style>\n",
       "<table border=\"1\" class=\"dataframe\">\n",
       "  <thead>\n",
       "    <tr style=\"text-align: right;\">\n",
       "      <th></th>\n",
       "      <th>user_id</th>\n",
       "      <th>business_id</th>\n",
       "      <th>stars_x</th>\n",
       "    </tr>\n",
       "  </thead>\n",
       "  <tbody>\n",
       "    <tr>\n",
       "      <th>420160</th>\n",
       "      <td>-5KiEoe-mb4sU2VwnVwrYw</td>\n",
       "      <td>Cucina by Wolfgang Puck</td>\n",
       "      <td>5</td>\n",
       "    </tr>\n",
       "    <tr>\n",
       "      <th>2828521</th>\n",
       "      <td>LPWSfa9mGf59P7KZg_eOdA</td>\n",
       "      <td>My Thai</td>\n",
       "      <td>5</td>\n",
       "    </tr>\n",
       "    <tr>\n",
       "      <th>3322</th>\n",
       "      <td>EyLVCFOKltmlMg7XcRxU9Q</td>\n",
       "      <td>Rumbi Island Grill</td>\n",
       "      <td>5</td>\n",
       "    </tr>\n",
       "    <tr>\n",
       "      <th>1206300</th>\n",
       "      <td>-tBJZffckiQC6zhPlwVpVQ</td>\n",
       "      <td>ZuZu</td>\n",
       "      <td>4</td>\n",
       "    </tr>\n",
       "    <tr>\n",
       "      <th>1239484</th>\n",
       "      <td>TPa6ZGNRjH2Zfrwq4vsUPw</td>\n",
       "      <td>SAS Cupcakes</td>\n",
       "      <td>3</td>\n",
       "    </tr>\n",
       "  </tbody>\n",
       "</table>\n",
       "</div>"
      ],
      "text/plain": [
       "                        user_id              business_id  stars_x\n",
       "420160   -5KiEoe-mb4sU2VwnVwrYw  Cucina by Wolfgang Puck        5\n",
       "2828521  LPWSfa9mGf59P7KZg_eOdA                  My Thai        5\n",
       "3322     EyLVCFOKltmlMg7XcRxU9Q       Rumbi Island Grill        5\n",
       "1206300  -tBJZffckiQC6zhPlwVpVQ                     ZuZu        4\n",
       "1239484  TPa6ZGNRjH2Zfrwq4vsUPw             SAS Cupcakes        3"
      ]
     },
     "execution_count": 18,
     "metadata": {},
     "output_type": "execute_result"
    }
   ],
   "source": [
    "sub_set.head()"
   ]
  },
  {
   "cell_type": "code",
   "execution_count": 19,
   "metadata": {},
   "outputs": [],
   "source": [
    "reader = Reader(rating_scale=(1, 5))"
   ]
  },
  {
   "cell_type": "code",
   "execution_count": 20,
   "metadata": {},
   "outputs": [],
   "source": [
    "data = Dataset.load_from_df(sub_set[['user_id', 'business_id', 'stars_x']], reader)"
   ]
  },
  {
   "cell_type": "code",
   "execution_count": 21,
   "metadata": {},
   "outputs": [],
   "source": [
    "# Use the full data frame for training our recommender\n",
    "train_set=data.build_full_trainset()"
   ]
  },
  {
   "cell_type": "code",
   "execution_count": 22,
   "metadata": {},
   "outputs": [],
   "source": [
    "# Get a test set by findindg all restaurants that users have not rated\n",
    "test_set = train_set.build_anti_testset()"
   ]
  },
  {
   "cell_type": "code",
   "execution_count": 12,
   "metadata": {},
   "outputs": [],
   "source": [
    "#train_set, test_set=tts(data, test_size=0.25)"
   ]
  },
  {
   "cell_type": "code",
   "execution_count": 23,
   "metadata": {},
   "outputs": [],
   "source": [
    "# Use singular value decomposition algorithm\n",
    "svd=SVD()"
   ]
  },
  {
   "cell_type": "code",
   "execution_count": 24,
   "metadata": {},
   "outputs": [
    {
     "data": {
      "text/plain": [
       "<surprise.prediction_algorithms.matrix_factorization.SVD at 0x11559169470>"
      ]
     },
     "execution_count": 24,
     "metadata": {},
     "output_type": "execute_result"
    }
   ],
   "source": [
    "svd.fit(train_set)"
   ]
  },
  {
   "cell_type": "code",
   "execution_count": 25,
   "metadata": {},
   "outputs": [],
   "source": [
    "preds=svd.test(test_set)"
   ]
  },
  {
   "cell_type": "code",
   "execution_count": 26,
   "metadata": {},
   "outputs": [
    {
     "data": {
      "text/plain": [
       "17521082"
      ]
     },
     "execution_count": 26,
     "metadata": {},
     "output_type": "execute_result"
    }
   ],
   "source": [
    "len(preds)"
   ]
  },
  {
   "cell_type": "code",
   "execution_count": 27,
   "metadata": {},
   "outputs": [
    {
     "data": {
      "text/plain": [
       "Prediction(uid='-5KiEoe-mb4sU2VwnVwrYw', iid='My Thai', r_ui=3.6734, est=4.0751192598239, details={'was_impossible': False})"
      ]
     },
     "execution_count": 27,
     "metadata": {},
     "output_type": "execute_result"
    }
   ],
   "source": [
    "preds[0]"
   ]
  },
  {
   "cell_type": "code",
   "execution_count": 43,
   "metadata": {},
   "outputs": [
    {
     "name": "stdout",
     "output_type": "stream",
     "text": [
      "RMSE: 0.2072\n"
     ]
    },
    {
     "data": {
      "text/plain": [
       "0.20721945717756124"
      ]
     },
     "execution_count": 43,
     "metadata": {},
     "output_type": "execute_result"
    }
   ],
   "source": [
    "# Check RMSE as a metric for measuring model accuracy\n",
    "accuracy.rmse(preds)"
   ]
  },
  {
   "cell_type": "markdown",
   "metadata": {},
   "source": [
    "The RMSE is very low indicating a good model."
   ]
  },
  {
   "cell_type": "code",
   "execution_count": 28,
   "metadata": {},
   "outputs": [],
   "source": [
    "top_rec=defaultdict(list)"
   ]
  },
  {
   "cell_type": "code",
   "execution_count": 29,
   "metadata": {},
   "outputs": [],
   "source": [
    "# Get all recommendations for all users\n",
    "for uid, iid, true_r, est, _ in preds:\n",
    "    top_rec[uid].append((iid, est))"
   ]
  },
  {
   "cell_type": "code",
   "execution_count": 31,
   "metadata": {},
   "outputs": [],
   "source": [
    "# Get top 5 recommedations based on predicted ratings\n",
    "for uid, user_ratings in top_rec.items():\n",
    "    user_ratings.sort(key = lambda x: x[1], reverse = True)\n",
    "    top_rec[uid] = user_ratings[:5]"
   ]
  },
  {
   "cell_type": "code",
   "execution_count": 33,
   "metadata": {},
   "outputs": [
    {
     "data": {
      "text/plain": [
       "['yelp/top_rec.pkl']"
      ]
     },
     "execution_count": 33,
     "metadata": {},
     "output_type": "execute_result"
    }
   ],
   "source": [
    "joblib.dump(top_rec, 'yelp/top_rec.pkl')"
   ]
  },
  {
   "cell_type": "code",
   "execution_count": 2,
   "metadata": {},
   "outputs": [],
   "source": [
    "top_rec=joblib.load('yelp/top_rec.pkl')"
   ]
  },
  {
   "cell_type": "code",
   "execution_count": 34,
   "metadata": {},
   "outputs": [],
   "source": [
    "top_rec_df=pd.DataFrame.from_dict(top_rec, orient='index')"
   ]
  },
  {
   "cell_type": "code",
   "execution_count": 35,
   "metadata": {},
   "outputs": [
    {
     "name": "stdout",
     "output_type": "stream",
     "text": [
      "<class 'pandas.core.frame.DataFrame'>\n",
      "Index: 4886 entries, -5KiEoe-mb4sU2VwnVwrYw to lX_j1NZA0xpJ9E1tu7SsIQ\n",
      "Data columns (total 5 columns):\n",
      "0    4886 non-null object\n",
      "1    4886 non-null object\n",
      "2    4886 non-null object\n",
      "3    4886 non-null object\n",
      "4    4886 non-null object\n",
      "dtypes: object(5)\n",
      "memory usage: 229.0+ KB\n"
     ]
    }
   ],
   "source": [
    "top_rec_df.info()"
   ]
  },
  {
   "cell_type": "code",
   "execution_count": 36,
   "metadata": {},
   "outputs": [],
   "source": [
    "top_rec_df.to_csv('yelp/top_rec_df.csv')"
   ]
  },
  {
   "cell_type": "code",
   "execution_count": 10,
   "metadata": {},
   "outputs": [],
   "source": [
    "top_rec_df=pd.read_csv('yelp/top_rec_df.csv', index_col=0)"
   ]
  },
  {
   "cell_type": "code",
   "execution_count": 37,
   "metadata": {},
   "outputs": [],
   "source": [
    "top_rec_df=top_rec_df.T"
   ]
  },
  {
   "cell_type": "code",
   "execution_count": 41,
   "metadata": {},
   "outputs": [],
   "source": [
    "# To show recommended restaurants for the first 5 users\n",
    "recommended=top_rec_df.iloc[:, 0:5].T"
   ]
  },
  {
   "cell_type": "code",
   "execution_count": 42,
   "metadata": {},
   "outputs": [],
   "source": [
    "recommended.index.name='Users'\n",
    "recommended.columns=['1st Restaurant', '2nd Restaurant', '3rd Restaurant', '4th Restaurant', '5th Restaurant']"
   ]
  },
  {
   "cell_type": "code",
   "execution_count": 44,
   "metadata": {},
   "outputs": [
    {
     "data": {
      "text/html": [
       "<div>\n",
       "<style scoped>\n",
       "    .dataframe tbody tr th:only-of-type {\n",
       "        vertical-align: middle;\n",
       "    }\n",
       "\n",
       "    .dataframe tbody tr th {\n",
       "        vertical-align: top;\n",
       "    }\n",
       "\n",
       "    .dataframe thead th {\n",
       "        text-align: right;\n",
       "    }\n",
       "</style>\n",
       "<table border=\"1\" class=\"dataframe\">\n",
       "  <thead>\n",
       "    <tr style=\"text-align: right;\">\n",
       "      <th></th>\n",
       "      <th>1st Restaurant</th>\n",
       "      <th>2nd Restaurant</th>\n",
       "      <th>3rd Restaurant</th>\n",
       "      <th>4th Restaurant</th>\n",
       "      <th>5th Restaurant</th>\n",
       "    </tr>\n",
       "    <tr>\n",
       "      <th>Users</th>\n",
       "      <th></th>\n",
       "      <th></th>\n",
       "      <th></th>\n",
       "      <th></th>\n",
       "      <th></th>\n",
       "    </tr>\n",
       "  </thead>\n",
       "  <tbody>\n",
       "    <tr>\n",
       "      <th>-5KiEoe-mb4sU2VwnVwrYw</th>\n",
       "      <td>(Yardbird Southern Table &amp; Bar, 4.448143511632...</td>\n",
       "      <td>(Rollin Smoke Barbeque, 4.361078514298695)</td>\n",
       "      <td>(Jean Philippe Patisserie, 4.338873641980125)</td>\n",
       "      <td>(Yard House, 4.325951264322038)</td>\n",
       "      <td>(Hiroba Sushi, 4.30917748011664)</td>\n",
       "    </tr>\n",
       "    <tr>\n",
       "      <th>LPWSfa9mGf59P7KZg_eOdA</th>\n",
       "      <td>(Mon Ami Gabi, 4.560510815225531)</td>\n",
       "      <td>(Yard House, 4.3325320086542085)</td>\n",
       "      <td>(Yardbird Southern Table &amp; Bar, 4.273418535906...</td>\n",
       "      <td>(The Combine Eatery, 4.237205892813327)</td>\n",
       "      <td>(Brew Tea Bar, 4.236163737902843)</td>\n",
       "    </tr>\n",
       "    <tr>\n",
       "      <th>EyLVCFOKltmlMg7XcRxU9Q</th>\n",
       "      <td>(Yard House, 4.420580330439966)</td>\n",
       "      <td>(Mon Ami Gabi, 4.390624184521719)</td>\n",
       "      <td>(Lola Coffee, 4.281053068868802)</td>\n",
       "      <td>(Brew Tea Bar, 4.278227307282902)</td>\n",
       "      <td>(Yardbird Southern Table &amp; Bar, 4.275357509866...</td>\n",
       "    </tr>\n",
       "    <tr>\n",
       "      <th>-tBJZffckiQC6zhPlwVpVQ</th>\n",
       "      <td>(Yardbird Southern Table &amp; Bar, 4.30498559007849)</td>\n",
       "      <td>(Yard House, 4.251247996344009)</td>\n",
       "      <td>(Mon Ami Gabi, 4.236412309252682)</td>\n",
       "      <td>(District One, 4.2217447790537825)</td>\n",
       "      <td>(Gelatology, 4.21387119440429)</td>\n",
       "    </tr>\n",
       "    <tr>\n",
       "      <th>TPa6ZGNRjH2Zfrwq4vsUPw</th>\n",
       "      <td>(Gordon Ramsay Steak, 4.239030581165461)</td>\n",
       "      <td>(Brew Tea Bar, 4.192484834780216)</td>\n",
       "      <td>(Mon Ami Gabi, 4.177138518433449)</td>\n",
       "      <td>(Yardbird Southern Table &amp; Bar, 4.168899445418...</td>\n",
       "      <td>(Millie's Homemade Ice Cream, 4.147826665191982)</td>\n",
       "    </tr>\n",
       "  </tbody>\n",
       "</table>\n",
       "</div>"
      ],
      "text/plain": [
       "                                                           1st Restaurant                              2nd Restaurant                                     3rd Restaurant                                     4th Restaurant                                     5th Restaurant\n",
       "Users                                                                                                                                                                                                                                                                         \n",
       "-5KiEoe-mb4sU2VwnVwrYw  (Yardbird Southern Table & Bar, 4.448143511632...  (Rollin Smoke Barbeque, 4.361078514298695)      (Jean Philippe Patisserie, 4.338873641980125)                    (Yard House, 4.325951264322038)                   (Hiroba Sushi, 4.30917748011664)\n",
       "LPWSfa9mGf59P7KZg_eOdA                  (Mon Ami Gabi, 4.560510815225531)            (Yard House, 4.3325320086542085)  (Yardbird Southern Table & Bar, 4.273418535906...            (The Combine Eatery, 4.237205892813327)                  (Brew Tea Bar, 4.236163737902843)\n",
       "EyLVCFOKltmlMg7XcRxU9Q                    (Yard House, 4.420580330439966)           (Mon Ami Gabi, 4.390624184521719)                   (Lola Coffee, 4.281053068868802)                  (Brew Tea Bar, 4.278227307282902)  (Yardbird Southern Table & Bar, 4.275357509866...\n",
       "-tBJZffckiQC6zhPlwVpVQ  (Yardbird Southern Table & Bar, 4.30498559007849)             (Yard House, 4.251247996344009)                  (Mon Ami Gabi, 4.236412309252682)                 (District One, 4.2217447790537825)                     (Gelatology, 4.21387119440429)\n",
       "TPa6ZGNRjH2Zfrwq4vsUPw           (Gordon Ramsay Steak, 4.239030581165461)           (Brew Tea Bar, 4.192484834780216)                  (Mon Ami Gabi, 4.177138518433449)  (Yardbird Southern Table & Bar, 4.168899445418...   (Millie's Homemade Ice Cream, 4.147826665191982)"
      ]
     },
     "execution_count": 44,
     "metadata": {},
     "output_type": "execute_result"
    }
   ],
   "source": [
    "recommended"
   ]
  },
  {
   "cell_type": "markdown",
   "metadata": {},
   "source": [
    "<b>The columns are the recommended top 5 restaurants. The first part of the tuple is the name of the restaurant and the second part of the tuple is the predicted rating the user would give to that restaurant.<br>\n",
    "I didn't convert user_id to actual names for the following reasons:<br>\n",
    "-In the data set there are only first names so I would get identical names a lot<br>\n",
    "-User ids are unique so that's what identify each user<br>\n",
    "<br>"
   ]
  }
 ],
 "metadata": {
  "kernelspec": {
   "display_name": "Python 3",
   "language": "python",
   "name": "python3"
  },
  "language_info": {
   "codemirror_mode": {
    "name": "ipython",
    "version": 3
   },
   "file_extension": ".py",
   "mimetype": "text/x-python",
   "name": "python",
   "nbconvert_exporter": "python",
   "pygments_lexer": "ipython3",
   "version": "3.6.4"
  }
 },
 "nbformat": 4,
 "nbformat_minor": 2
}
