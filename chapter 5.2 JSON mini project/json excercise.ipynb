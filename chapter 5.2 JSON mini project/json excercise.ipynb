{
 "cells": [
  {
   "cell_type": "code",
   "execution_count": 42,
   "metadata": {
    "collapsed": true
   },
   "outputs": [],
   "source": [
    "#import necessary packages\n",
    "import pandas as pd\n",
    "import json\n",
    "from pandas.io.json import json_normalize\n",
    "import matplotlib.pyplot as plt"
   ]
  },
  {
   "cell_type": "code",
   "execution_count": 43,
   "metadata": {},
   "outputs": [
    {
     "name": "stdout",
     "output_type": "stream",
     "text": [
      "<class 'pandas.core.frame.DataFrame'>\n"
     ]
    }
   ],
   "source": [
    "#load world_bank_projects.json file and read into a dataframe using json_normalize since the file has nested dictionaries\n",
    "with open('world_bank_projects.json') as file:\n",
    "    wb=json.load(file)\n",
    "wb=json_normalize(wb)\n",
    "#check data type of wb\n",
    "print(type(wb))"
   ]
  },
  {
   "cell_type": "code",
   "execution_count": 44,
   "metadata": {},
   "outputs": [
    {
     "data": {
      "text/plain": [
       "Index(['_id.$oid', 'approvalfy', 'board_approval_month', 'boardapprovaldate',\n",
       "       'borrower', 'closingdate', 'country_namecode', 'countrycode',\n",
       "       'countryname', 'countryshortname', 'docty', 'envassesmentcategorycode',\n",
       "       'grantamt', 'ibrdcommamt', 'id', 'idacommamt', 'impagency',\n",
       "       'lendinginstr', 'lendinginstrtype', 'lendprojectcost',\n",
       "       'majorsector_percent', 'mjsector_namecode', 'mjtheme',\n",
       "       'mjtheme_namecode', 'mjthemecode', 'prodline', 'prodlinetext',\n",
       "       'productlinetype', 'project_abstract.cdata', 'project_name',\n",
       "       'projectdocs', 'projectfinancialtype', 'projectstatusdisplay',\n",
       "       'regionname', 'sector', 'sector1.Name', 'sector1.Percent',\n",
       "       'sector2.Name', 'sector2.Percent', 'sector3.Name', 'sector3.Percent',\n",
       "       'sector4.Name', 'sector4.Percent', 'sector_namecode', 'sectorcode',\n",
       "       'source', 'status', 'supplementprojectflg', 'theme1.Name',\n",
       "       'theme1.Percent', 'theme_namecode', 'themecode', 'totalamt',\n",
       "       'totalcommamt', 'url'],\n",
       "      dtype='object')"
      ]
     },
     "execution_count": 44,
     "metadata": {},
     "output_type": "execute_result"
    }
   ],
   "source": [
    "#check columns of data frame\n",
    "wb.columns"
   ]
  },
  {
   "cell_type": "code",
   "execution_count": 45,
   "metadata": {},
   "outputs": [
    {
     "name": "stdout",
     "output_type": "stream",
     "text": [
      "<class 'pandas.core.frame.DataFrame'>\n",
      "RangeIndex: 500 entries, 0 to 499\n",
      "Data columns (total 55 columns):\n",
      "_id.$oid                    500 non-null object\n",
      "approvalfy                  500 non-null object\n",
      "board_approval_month        500 non-null object\n",
      "boardapprovaldate           500 non-null object\n",
      "borrower                    485 non-null object\n",
      "closingdate                 370 non-null object\n",
      "country_namecode            500 non-null object\n",
      "countrycode                 500 non-null object\n",
      "countryname                 500 non-null object\n",
      "countryshortname            500 non-null object\n",
      "docty                       446 non-null object\n",
      "envassesmentcategorycode    430 non-null object\n",
      "grantamt                    500 non-null int64\n",
      "ibrdcommamt                 500 non-null int64\n",
      "id                          500 non-null object\n",
      "idacommamt                  500 non-null int64\n",
      "impagency                   472 non-null object\n",
      "lendinginstr                495 non-null object\n",
      "lendinginstrtype            495 non-null object\n",
      "lendprojectcost             500 non-null int64\n",
      "majorsector_percent         500 non-null object\n",
      "mjsector_namecode           500 non-null object\n",
      "mjtheme                     491 non-null object\n",
      "mjtheme_namecode            500 non-null object\n",
      "mjthemecode                 500 non-null object\n",
      "prodline                    500 non-null object\n",
      "prodlinetext                500 non-null object\n",
      "productlinetype             500 non-null object\n",
      "project_abstract.cdata      362 non-null object\n",
      "project_name                500 non-null object\n",
      "projectdocs                 446 non-null object\n",
      "projectfinancialtype        500 non-null object\n",
      "projectstatusdisplay        500 non-null object\n",
      "regionname                  500 non-null object\n",
      "sector                      500 non-null object\n",
      "sector1.Name                500 non-null object\n",
      "sector1.Percent             500 non-null int64\n",
      "sector2.Name                380 non-null object\n",
      "sector2.Percent             380 non-null float64\n",
      "sector3.Name                265 non-null object\n",
      "sector3.Percent             265 non-null float64\n",
      "sector4.Name                174 non-null object\n",
      "sector4.Percent             174 non-null float64\n",
      "sector_namecode             500 non-null object\n",
      "sectorcode                  500 non-null object\n",
      "source                      500 non-null object\n",
      "status                      500 non-null object\n",
      "supplementprojectflg        498 non-null object\n",
      "theme1.Name                 500 non-null object\n",
      "theme1.Percent              500 non-null int64\n",
      "theme_namecode              491 non-null object\n",
      "themecode                   491 non-null object\n",
      "totalamt                    500 non-null int64\n",
      "totalcommamt                500 non-null int64\n",
      "url                         500 non-null object\n",
      "dtypes: float64(3), int64(8), object(44)\n",
      "memory usage: 214.9+ KB\n"
     ]
    }
   ],
   "source": [
    "#aim 1 is to find the top 10 countries with most projects, first check for integrity of data\n",
    "wb.info()"
   ]
  },
  {
   "cell_type": "code",
   "execution_count": 46,
   "metadata": {},
   "outputs": [
    {
     "name": "stdout",
     "output_type": "stream",
     "text": [
      "People's Republic of China         19\n",
      "Republic of Indonesia              19\n",
      "Socialist Republic of Vietnam      17\n",
      "Republic of India                  16\n",
      "Republic of Yemen                  13\n",
      "People's Republic of Bangladesh    12\n",
      "Kingdom of Morocco                 12\n",
      "Nepal                              12\n",
      "Africa                             11\n",
      "Republic of Mozambique             11\n",
      "Name: countryname, dtype: int64\n"
     ]
    }
   ],
   "source": [
    "#since both 'countryname' and 'projectname' have 500 non-null entries, we can just do value counts of 'countryname' (or code)\n",
    "top_10_countries=wb['countryname'].value_counts().head(10)\n",
    "print(top_10_countries)"
   ]
  },
  {
   "cell_type": "code",
   "execution_count": 47,
   "metadata": {},
   "outputs": [
    {
     "data": {
      "text/html": [
       "<div>\n",
       "<style>\n",
       "    .dataframe thead tr:only-child th {\n",
       "        text-align: right;\n",
       "    }\n",
       "\n",
       "    .dataframe thead th {\n",
       "        text-align: left;\n",
       "    }\n",
       "\n",
       "    .dataframe tbody tr th {\n",
       "        vertical-align: top;\n",
       "    }\n",
       "</style>\n",
       "<table border=\"1\" class=\"dataframe\">\n",
       "  <thead>\n",
       "    <tr style=\"text-align: right;\">\n",
       "      <th></th>\n",
       "      <th>code</th>\n",
       "      <th>name</th>\n",
       "    </tr>\n",
       "  </thead>\n",
       "  <tbody>\n",
       "    <tr>\n",
       "      <th>0</th>\n",
       "      <td>8</td>\n",
       "      <td>Human development</td>\n",
       "    </tr>\n",
       "    <tr>\n",
       "      <th>1</th>\n",
       "      <td>11</td>\n",
       "      <td></td>\n",
       "    </tr>\n",
       "    <tr>\n",
       "      <th>0</th>\n",
       "      <td>1</td>\n",
       "      <td>Economic management</td>\n",
       "    </tr>\n",
       "    <tr>\n",
       "      <th>1</th>\n",
       "      <td>6</td>\n",
       "      <td>Social protection and risk management</td>\n",
       "    </tr>\n",
       "    <tr>\n",
       "      <th>0</th>\n",
       "      <td>5</td>\n",
       "      <td>Trade and integration</td>\n",
       "    </tr>\n",
       "    <tr>\n",
       "      <th>1</th>\n",
       "      <td>2</td>\n",
       "      <td>Public sector governance</td>\n",
       "    </tr>\n",
       "    <tr>\n",
       "      <th>2</th>\n",
       "      <td>11</td>\n",
       "      <td>Environment and natural resources management</td>\n",
       "    </tr>\n",
       "    <tr>\n",
       "      <th>3</th>\n",
       "      <td>6</td>\n",
       "      <td>Social protection and risk management</td>\n",
       "    </tr>\n",
       "    <tr>\n",
       "      <th>0</th>\n",
       "      <td>7</td>\n",
       "      <td>Social dev/gender/inclusion</td>\n",
       "    </tr>\n",
       "    <tr>\n",
       "      <th>1</th>\n",
       "      <td>7</td>\n",
       "      <td>Social dev/gender/inclusion</td>\n",
       "    </tr>\n",
       "  </tbody>\n",
       "</table>\n",
       "</div>"
      ],
      "text/plain": [
       "  code                                          name\n",
       "0    8                             Human development\n",
       "1   11                                              \n",
       "0    1                           Economic management\n",
       "1    6         Social protection and risk management\n",
       "0    5                         Trade and integration\n",
       "1    2                      Public sector governance\n",
       "2   11  Environment and natural resources management\n",
       "3    6         Social protection and risk management\n",
       "0    7                   Social dev/gender/inclusion\n",
       "1    7                   Social dev/gender/inclusion"
      ]
     },
     "execution_count": 47,
     "metadata": {},
     "output_type": "execute_result"
    }
   ],
   "source": [
    "#to find the top 10 projects, use the 'mjtheme_namecode' column, which also has 500 non null values\n",
    "#'mjtheme_namecode' columns has lists of dictionaries, convert to dataframes for counting\n",
    "themes=wb['mjtheme_namecode'].apply(lambda x: pd.DataFrame(x, columns=['code', 'name']))\n",
    "#concat and make a new data frame with all 'code' and 'name' entries from the 'mjtheme_namecode' column\n",
    "all_themes=pd.concat(list(themes))\n",
    "#print firts 10 records to check data\n",
    "all_themes.head(10)"
   ]
  },
  {
   "cell_type": "code",
   "execution_count": 48,
   "metadata": {},
   "outputs": [
    {
     "data": {
      "text/plain": [
       "0"
      ]
     },
     "execution_count": 48,
     "metadata": {},
     "output_type": "execute_result"
    }
   ],
   "source": [
    "#noticed some emtry entries in the 'name' column. Need to drop those when counting\n",
    "space_filter=(all_themes['name']!='')\n",
    "all_themes_tidy=all_themes[space_filter]\n",
    "#check to see if now 'name' column has no empty entries. The following code should return 0\n",
    "(all_themes_tidy['name']=='').sum()"
   ]
  },
  {
   "cell_type": "code",
   "execution_count": 49,
   "metadata": {},
   "outputs": [
    {
     "data": {
      "text/html": [
       "<div>\n",
       "<style>\n",
       "    .dataframe thead tr:only-child th {\n",
       "        text-align: right;\n",
       "    }\n",
       "\n",
       "    .dataframe thead th {\n",
       "        text-align: left;\n",
       "    }\n",
       "\n",
       "    .dataframe tbody tr th {\n",
       "        vertical-align: top;\n",
       "    }\n",
       "</style>\n",
       "<table border=\"1\" class=\"dataframe\">\n",
       "  <thead>\n",
       "    <tr style=\"text-align: right;\">\n",
       "      <th></th>\n",
       "      <th>code</th>\n",
       "      <th>name</th>\n",
       "    </tr>\n",
       "  </thead>\n",
       "  <tbody>\n",
       "    <tr>\n",
       "      <th>0</th>\n",
       "      <td>8</td>\n",
       "      <td>Human development</td>\n",
       "    </tr>\n",
       "    <tr>\n",
       "      <th>0</th>\n",
       "      <td>1</td>\n",
       "      <td>Economic management</td>\n",
       "    </tr>\n",
       "    <tr>\n",
       "      <th>1</th>\n",
       "      <td>6</td>\n",
       "      <td>Social protection and risk management</td>\n",
       "    </tr>\n",
       "    <tr>\n",
       "      <th>0</th>\n",
       "      <td>5</td>\n",
       "      <td>Trade and integration</td>\n",
       "    </tr>\n",
       "    <tr>\n",
       "      <th>1</th>\n",
       "      <td>2</td>\n",
       "      <td>Public sector governance</td>\n",
       "    </tr>\n",
       "    <tr>\n",
       "      <th>2</th>\n",
       "      <td>11</td>\n",
       "      <td>Environment and natural resources management</td>\n",
       "    </tr>\n",
       "    <tr>\n",
       "      <th>3</th>\n",
       "      <td>6</td>\n",
       "      <td>Social protection and risk management</td>\n",
       "    </tr>\n",
       "    <tr>\n",
       "      <th>0</th>\n",
       "      <td>7</td>\n",
       "      <td>Social dev/gender/inclusion</td>\n",
       "    </tr>\n",
       "    <tr>\n",
       "      <th>1</th>\n",
       "      <td>7</td>\n",
       "      <td>Social dev/gender/inclusion</td>\n",
       "    </tr>\n",
       "    <tr>\n",
       "      <th>0</th>\n",
       "      <td>5</td>\n",
       "      <td>Trade and integration</td>\n",
       "    </tr>\n",
       "  </tbody>\n",
       "</table>\n",
       "</div>"
      ],
      "text/plain": [
       "  code                                          name\n",
       "0    8                             Human development\n",
       "0    1                           Economic management\n",
       "1    6         Social protection and risk management\n",
       "0    5                         Trade and integration\n",
       "1    2                      Public sector governance\n",
       "2   11  Environment and natural resources management\n",
       "3    6         Social protection and risk management\n",
       "0    7                   Social dev/gender/inclusion\n",
       "1    7                   Social dev/gender/inclusion\n",
       "0    5                         Trade and integration"
      ]
     },
     "execution_count": 49,
     "metadata": {},
     "output_type": "execute_result"
    }
   ],
   "source": [
    "#check data by printing first 10 records\n",
    "all_themes_tidy.head(10)"
   ]
  },
  {
   "cell_type": "code",
   "execution_count": 50,
   "metadata": {},
   "outputs": [
    {
     "name": "stdout",
     "output_type": "stream",
     "text": [
      "Environment and natural resources management    223\n",
      "Rural development                               202\n",
      "Human development                               197\n",
      "Public sector governance                        184\n",
      "Social protection and risk management           158\n",
      "Financial and private sector development        130\n",
      "Social dev/gender/inclusion                     119\n",
      "Trade and integration                            72\n",
      "Urban development                                47\n",
      "Economic management                              33\n",
      "Name: name, dtype: int64\n"
     ]
    }
   ],
   "source": [
    "#now we can count top 10 project themes by doing value count on 'name' column\n",
    "top_10_projects=all_themes_tidy['name'].value_counts().head(10)\n",
    "print(top_10_projects)"
   ]
  },
  {
   "cell_type": "code",
   "execution_count": 51,
   "metadata": {},
   "outputs": [
    {
     "name": "stdout",
     "output_type": "stream",
     "text": [
      "before  1377 ; after  11\n"
     ]
    }
   ],
   "source": [
    "#now we need to fill in those missing values for the 'name' in the original data frame\n",
    "#since all the 'codes' should have a proper mapping in the new data frame after dropping empty entries, we can contruct a new dictionary \n",
    "#with all unique codes and names to map to original data frame using a function\n",
    "#first drop all duplicates in the new data frame to get unique entries\n",
    "all_themes_unique=all_themes_tidy.drop_duplicates()\n",
    "#compare before and after dropping duplicate values\n",
    "print('before ', len(all_themes_tidy), ';', 'after ', len(all_themes_unique))"
   ]
  },
  {
   "cell_type": "code",
   "execution_count": 52,
   "metadata": {},
   "outputs": [
    {
     "name": "stdout",
     "output_type": "stream",
     "text": [
      "{'8': 'Human development', '1': 'Economic management', '6': 'Social protection and risk management', '5': 'Trade and integration', '2': 'Public sector governance', '11': 'Environment and natural resources management', '7': 'Social dev/gender/inclusion', '4': 'Financial and private sector development', '10': 'Rural development', '9': 'Urban development', '3': 'Rule of law'}\n"
     ]
    }
   ],
   "source": [
    "#so there are only 11 codes, each corresponding to a unique name\n",
    "#construct a dictionary to reflect the mapping\n",
    "code_to_name=dict(zip(all_themes_unique['code'], all_themes_unique['name']))\n",
    "#check to see if the dictionary is correct\n",
    "print(code_to_name)"
   ]
  },
  {
   "cell_type": "code",
   "execution_count": 53,
   "metadata": {},
   "outputs": [
    {
     "name": "stdout",
     "output_type": "stream",
     "text": [
      "[{'code': '8', 'name': 'Human development'}, {'code': '11', 'name': ''}]\n",
      "[{'code': '8', 'name': 'Human development'}, {'code': '11', 'name': 'Environment and natural resources management'}]\n"
     ]
    }
   ],
   "source": [
    "#now we have codes properly mapped to names, we can apply a function to fill the missing values\n",
    "def replace_missing_name(list):\n",
    "    \"\"\"The list is a list containing dictionaries where some keys are missing values.\n",
    "       The missing values will be replaced by mappings from another dictionary\"\"\"\n",
    "    for d in list:\n",
    "        if not d['name']:\n",
    "            d['name']=code_to_name[d['code']]\n",
    "    return(list)\n",
    "\n",
    "#apply this function to original data frame's mjtheme_namecode column to fill missing names\n",
    "#first check to see that the first entry in the original data frame has a missing name\n",
    "print(wb['mjtheme_namecode'][0])\n",
    "#so for 'code' 11 the name is missing\n",
    "#let's make a copy of the original data frame to test the function\n",
    "wb_copy=wb.copy()\n",
    "wb_copy['mjtheme_namecode'].apply(replace_missing_name)\n",
    "#check first record of 'mjtheme_namecode column again\n",
    "print(wb_copy['mjtheme_namecode'][0])\n",
    "#looks like it worked\n"
   ]
  },
  {
   "cell_type": "code",
   "execution_count": 62,
   "metadata": {},
   "outputs": [
    {
     "name": "stdout",
     "output_type": "stream",
     "text": [
      "People's Republic of China         19\n",
      "Republic of Indonesia              19\n",
      "Socialist Republic of Vietnam      17\n",
      "Republic of India                  16\n",
      "Republic of Yemen                  13\n",
      "People's Republic of Bangladesh    12\n",
      "Kingdom of Morocco                 12\n",
      "Nepal                              12\n",
      "Africa                             11\n",
      "Republic of Mozambique             11\n",
      "Name: countryname, dtype: int64\n"
     ]
    }
   ],
   "source": [
    "#print top 10 countries with most projects\n",
    "print(top_10_countries)"
   ]
  },
  {
   "cell_type": "code",
   "execution_count": 63,
   "metadata": {},
   "outputs": [
    {
     "name": "stdout",
     "output_type": "stream",
     "text": [
      "Environment and natural resources management    223\n",
      "Rural development                               202\n",
      "Human development                               197\n",
      "Public sector governance                        184\n",
      "Social protection and risk management           158\n",
      "Financial and private sector development        130\n",
      "Social dev/gender/inclusion                     119\n",
      "Trade and integration                            72\n",
      "Urban development                                47\n",
      "Economic management                              33\n",
      "Name: name, dtype: int64\n"
     ]
    }
   ],
   "source": [
    "#print top 10 major project themes\n",
    "print(top_10_projects)"
   ]
  },
  {
   "cell_type": "code",
   "execution_count": 69,
   "metadata": {},
   "outputs": [
    {
     "name": "stdout",
     "output_type": "stream",
     "text": [
      "0                                     [{'code': '8', 'name': 'Human development'}, {'code': '11', 'name': 'Environment and natural resources management'}]\n",
      "1                                           [{'code': '1', 'name': 'Economic management'}, {'code': '6', 'name': 'Social protection and risk management'}]\n",
      "2    [{'code': '5', 'name': 'Trade and integration'}, {'code': '2', 'name': 'Public sector governance'}, {'code': '11', 'name': 'Environment and natura...\n",
      "3                                             [{'code': '7', 'name': 'Social dev/gender/inclusion'}, {'code': '7', 'name': 'Social dev/gender/inclusion'}]\n",
      "4                                      [{'code': '5', 'name': 'Trade and integration'}, {'code': '4', 'name': 'Financial and private sector development'}]\n",
      "5                         [{'code': '6', 'name': 'Social protection and risk management'}, {'code': '6', 'name': 'Social protection and risk management'}]\n",
      "6                                   [{'code': '2', 'name': 'Public sector governance'}, {'code': '4', 'name': 'Financial and private sector development'}]\n",
      "7                                     [{'code': '11', 'name': 'Environment and natural resources management'}, {'code': '8', 'name': 'Human development'}]\n",
      "8                                                      [{'code': '10', 'name': 'Rural development'}, {'code': '7', 'name': 'Social dev/gender/inclusion'}]\n",
      "9    [{'code': '2', 'name': 'Public sector governance'}, {'code': '2', 'name': 'Public sector governance'}, {'code': '2', 'name': 'Public sector govern...\n",
      "Name: mjtheme_namecode, dtype: object\n"
     ]
    }
   ],
   "source": [
    "#the modified data frame without misisng names for the 'mjtheme_namecode' column\n",
    "pd.set_option('max_colwidth' ,150)\n",
    "print(wb_copy['mjtheme_namecode'].head(10))"
   ]
  },
  {
   "cell_type": "code",
   "execution_count": null,
   "metadata": {
    "collapsed": true
   },
   "outputs": [],
   "source": []
  }
 ],
 "metadata": {
  "kernelspec": {
   "display_name": "Python 3",
   "language": "python",
   "name": "python3"
  },
  "language_info": {
   "codemirror_mode": {
    "name": "ipython",
    "version": 3
   },
   "file_extension": ".py",
   "mimetype": "text/x-python",
   "name": "python",
   "nbconvert_exporter": "python",
   "pygments_lexer": "ipython3",
   "version": "3.6.3"
  }
 },
 "nbformat": 4,
 "nbformat_minor": 2
}
