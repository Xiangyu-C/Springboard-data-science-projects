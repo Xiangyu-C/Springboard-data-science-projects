{
 "cells": [
  {
   "cell_type": "markdown",
   "metadata": {},
   "source": [
    "# What is the True Normal Human Body Temperature? \n",
    "\n",
    "#### Background\n",
    "\n",
    "The mean normal body temperature was held to be 37$^{\\circ}$C or 98.6$^{\\circ}$F for more than 120 years since it was first conceptualized and reported by Carl Wunderlich in a famous 1868 book. But, is this value statistically correct?"
   ]
  },
  {
   "cell_type": "markdown",
   "metadata": {},
   "source": [
    "<h3>Exercises</h3>\n",
    "\n",
    "<p>In this exercise, you will analyze a dataset of human body temperatures and employ the concepts of hypothesis testing, confidence intervals, and statistical significance.</p>\n",
    "\n",
    "<p>Answer the following questions <b>in this notebook below and submit to your Github account</b>.</p> \n",
    "\n",
    "<ol>\n",
    "<li>  Is the distribution of body temperatures normal? \n",
    "    <ul>\n",
    "    <li> Although this is not a requirement for CLT to hold (read CLT carefully), it gives us some peace of mind that the population may also be normally distributed if we assume that this sample is representative of the population.\n",
    "    </ul>\n",
    "<li>  Is the sample size large? Are the observations independent?\n",
    "    <ul>\n",
    "    <li> Remember that this is a condition for the CLT, and hence the statistical tests we are using, to apply.\n",
    "    </ul>\n",
    "<li>  Is the true population mean really 98.6 degrees F?\n",
    "    <ul>\n",
    "    <li> Would you use a one-sample or two-sample test? Why?\n",
    "    <li> In this situation, is it appropriate to use the $t$ or $z$ statistic? \n",
    "    <li> Now try using the other test. How is the result be different? Why?\n",
    "    </ul>\n",
    "<li>  Draw a small sample of size 10 from the data and repeat both tests. \n",
    "    <ul>\n",
    "    <li> Which one is the correct one to use? \n",
    "    <li> What do you notice? What does this tell you about the difference in application of the $t$ and $z$ statistic?\n",
    "    </ul>\n",
    "<li>  At what temperature should we consider someone's temperature to be \"abnormal\"?\n",
    "    <ul>\n",
    "    <li> Start by computing the margin of error and confidence interval.\n",
    "    </ul>\n",
    "<li>  Is there a significant difference between males and females in normal temperature?\n",
    "    <ul>\n",
    "    <li> What test did you use and why?\n",
    "    <li> Write a story with your conclusion in the context of the original problem.\n",
    "    </ul>\n",
    "</ol>\n",
    "\n",
    "You can include written notes in notebook cells using Markdown: \n",
    "   - In the control panel at the top, choose Cell > Cell Type > Markdown\n",
    "   - Markdown syntax: http://nestacms.com/docs/creating-content/markdown-cheat-sheet\n",
    "\n",
    "#### Resources\n",
    "\n",
    "+ Information and data sources: http://www.amstat.org/publications/jse/datasets/normtemp.txt, http://www.amstat.org/publications/jse/jse_data_archive.htm\n",
    "+ Markdown syntax: http://nestacms.com/docs/creating-content/markdown-cheat-sheet\n",
    "\n",
    "****"
   ]
  },
  {
   "cell_type": "code",
   "execution_count": 1,
   "metadata": {
    "collapsed": true
   },
   "outputs": [],
   "source": [
    "#To begin analysis, first import pandas and other libraries\n",
    "import pandas as pd\n",
    "import numpy as np\n",
    "import matplotlib.pyplot as plt\n",
    "import seaborn as sns\n",
    "from scipy import stats\n",
    "\n",
    "#load data file into a dataframe\n",
    "df = pd.read_csv('data/human_body_temperature.csv')"
   ]
  },
  {
   "cell_type": "code",
   "execution_count": 2,
   "metadata": {},
   "outputs": [
    {
     "name": "stdout",
     "output_type": "stream",
     "text": [
      "<class 'pandas.core.frame.DataFrame'>\n",
      "RangeIndex: 130 entries, 0 to 129\n",
      "Data columns (total 3 columns):\n",
      "temperature    130 non-null float64\n",
      "gender         130 non-null object\n",
      "heart_rate     130 non-null float64\n",
      "dtypes: float64(2), object(1)\n",
      "memory usage: 3.1+ KB\n"
     ]
    }
   ],
   "source": [
    "# First check the data frame to get some basic information\n",
    "df.info()"
   ]
  },
  {
   "cell_type": "code",
   "execution_count": 3,
   "metadata": {},
   "outputs": [
    {
     "data": {
      "text/html": [
       "<div>\n",
       "<style>\n",
       "    .dataframe thead tr:only-child th {\n",
       "        text-align: right;\n",
       "    }\n",
       "\n",
       "    .dataframe thead th {\n",
       "        text-align: left;\n",
       "    }\n",
       "\n",
       "    .dataframe tbody tr th {\n",
       "        vertical-align: top;\n",
       "    }\n",
       "</style>\n",
       "<table border=\"1\" class=\"dataframe\">\n",
       "  <thead>\n",
       "    <tr style=\"text-align: right;\">\n",
       "      <th></th>\n",
       "      <th>temperature</th>\n",
       "      <th>gender</th>\n",
       "      <th>heart_rate</th>\n",
       "    </tr>\n",
       "  </thead>\n",
       "  <tbody>\n",
       "    <tr>\n",
       "      <th>0</th>\n",
       "      <td>99.3</td>\n",
       "      <td>F</td>\n",
       "      <td>68.0</td>\n",
       "    </tr>\n",
       "    <tr>\n",
       "      <th>1</th>\n",
       "      <td>98.4</td>\n",
       "      <td>F</td>\n",
       "      <td>81.0</td>\n",
       "    </tr>\n",
       "    <tr>\n",
       "      <th>2</th>\n",
       "      <td>97.8</td>\n",
       "      <td>M</td>\n",
       "      <td>73.0</td>\n",
       "    </tr>\n",
       "    <tr>\n",
       "      <th>3</th>\n",
       "      <td>99.2</td>\n",
       "      <td>F</td>\n",
       "      <td>66.0</td>\n",
       "    </tr>\n",
       "    <tr>\n",
       "      <th>4</th>\n",
       "      <td>98.0</td>\n",
       "      <td>F</td>\n",
       "      <td>73.0</td>\n",
       "    </tr>\n",
       "  </tbody>\n",
       "</table>\n",
       "</div>"
      ],
      "text/plain": [
       "   temperature gender  heart_rate\n",
       "0         99.3      F        68.0\n",
       "1         98.4      F        81.0\n",
       "2         97.8      M        73.0\n",
       "3         99.2      F        66.0\n",
       "4         98.0      F        73.0"
      ]
     },
     "execution_count": 3,
     "metadata": {},
     "output_type": "execute_result"
    }
   ],
   "source": [
    "df.head()"
   ]
  },
  {
   "cell_type": "code",
   "execution_count": 43,
   "metadata": {},
   "outputs": [
    {
     "data": {
      "image/png": "[encoded data removed]",
      "text/plain": [
       "<matplotlib.figure.Figure at 0x29f1def0a90>"
      ]
     },
     "metadata": {},
     "output_type": "display_data"
    }
   ],
   "source": [
    "# Question #1: is the distribution of the body temperature normal?\n",
    "#First let's put a normal distribution fit on the histogram of the body temperatures\n",
    "temp=df['temperature']\n",
    "sns.distplot(temp, kde=False, fit=stats.norm)\n",
    "plt.xlabel('Body temperature')\n",
    "plt.ylabel('Percentage')\n",
    "plt.show()"
   ]
  },
  {
   "cell_type": "markdown",
   "metadata": {},
   "source": [
    "It looks pretty 'normal' but we can further test by plotting ECDF of the data with that simulated using a random number generator for a normal distribution \n",
    "using mean and standard deviation generated from the data"
   ]
  },
  {
   "cell_type": "code",
   "execution_count": 44,
   "metadata": {},
   "outputs": [
    {
     "data": {
      "image/png": "[encoded data removed]",
      "text/plain": [
       "<matplotlib.figure.Figure at 0x29f1ddabc18>"
      ]
     },
     "metadata": {},
     "output_type": "display_data"
    }
   ],
   "source": [
    "def ecdf(a):\n",
    "    \"\"\"This function takes an array as the argument,\n",
    "        and returns the x, y coordinates for plotting\n",
    "        an ECDF\"\"\"\n",
    "    x=np.sort(a)\n",
    "    y=np.arange(1, len(a)+1)/len(a)\n",
    "    return(x,y)\n",
    "\n",
    "#calculate x, y for the actual body temperature data\n",
    "x,y=ecdf(temp)\n",
    "#calculate theoretical x_theo, y_theo for the generated normal distribution data\n",
    "temp_mean=np.mean(temp)\n",
    "temp_std=np.std(temp)\n",
    "x_theo, y_theo=ecdf(np.random.normal(temp_mean, temp_std, 10000))\n",
    "#plot ECDF for actual data\n",
    "plt.scatter(x,y, label='Data')\n",
    "#plot ECDF for generated normal distribution data\n",
    "plt.scatter(x_theo, y_theo, label='Simulation')\n",
    "#label the axes\n",
    "plt.xlabel('Body temperature')\n",
    "plt.ylabel('ECDF')\n",
    "#add a legend\n",
    "plt.legend()\n",
    "#show the graph\n",
    "plt.show()"
   ]
  },
  {
   "cell_type": "markdown",
   "metadata": {},
   "source": [
    "They overlap very well, so I think the temperature is a normal distribution\n",
    "\n",
    "Question 2: Is the sample size large? Are the observations independent?\n",
    "    \n",
    "The sample size is fairly large since there are 130 observations. To test whether the observations are independent. We could divide the 130 observations \n",
    "into two groups and test correlation. we can even do a permutation test and see whether it's significant.\n",
    "\n",
    "First define a function to compute pearson correlation coefficient"
   ]
  },
  {
   "cell_type": "code",
   "execution_count": 6,
   "metadata": {},
   "outputs": [
    {
     "name": "stdout",
     "output_type": "stream",
     "text": [
      "-0.150161089723\n"
     ]
    }
   ],
   "source": [
    "def pearson_r(a1, a2):\n",
    "    \"\"\"The function takes two arrays (a1,a2) as argument,\n",
    "        computes a pearson coefficient matrix, and then return\n",
    "        the pearson correlation coefficient between the two arrays\"\"\"\n",
    "    cor_matrix=np.corrcoef(a1,a2)\n",
    "    cor=cor_matrix[0,1]\n",
    "    return(cor)\n",
    "\n",
    "#divide the 130 temperature observations into 2 groups\n",
    "temp_group_1=temp[: 65]\n",
    "temp_group_2=temp[65:]\n",
    "#compute pearson correlation coefficient of the two groups\n",
    "corr=pearson_r(temp_group_1, temp_group_2)\n",
    "print(corr)\n"
   ]
  },
  {
   "cell_type": "code",
   "execution_count": 7,
   "metadata": {},
   "outputs": [
    {
     "name": "stdout",
     "output_type": "stream",
     "text": [
      "0.0579360500799\n"
     ]
    }
   ],
   "source": [
    "#this shows very weak anti-correlation\n",
    "#we can then do a permutation and then compute again\n",
    "temp_perm=np.random.permutation(temp)\n",
    "temp_perm_1=temp_perm[:65]\n",
    "temp_perm_2=temp_perm[65:]\n",
    "corr_perm=pearson_r(temp_perm_1, temp_perm_2)\n",
    "print(corr_perm)\n"
   ]
  },
  {
   "cell_type": "markdown",
   "metadata": {},
   "source": [
    "Again, no obivous correlation(or anti-correlation). We can then use for loops to simulate this process say 10000 times and then compute the correlation \n",
    "coefficient for all the permutations. Wethen plot a distribution of all the coefficients to see how they spread out.\n",
    "\n",
    "Initiate an empty array to hold all coefficients"
   ]
  },
  {
   "cell_type": "code",
   "execution_count": 10,
   "metadata": {},
   "outputs": [
    {
     "data": {
      "image/png": "[encoded data removed]",
      "text/plain": [
       "<matplotlib.figure.Figure at 0x16eeb0b6c50>"
      ]
     },
     "metadata": {},
     "output_type": "display_data"
    }
   ],
   "source": [
    "corr_perm_rep=np.empty(10000)\n",
    "for i in range(10000):\n",
    "    temp_perm_rep=np.random.permutation(temp)\n",
    "    corr_perm=pearson_r(temp_perm_rep[:65], temp_perm_rep[65:])\n",
    "    corr_perm_rep[i]=corr_perm\n",
    "sns.distplot(corr_perm_rep, kde=False)\n",
    "plt.xlabel('pearson correlation coefficient')\n",
    "plt.ylabel('percentage')\n",
    "plt.show()"
   ]
  },
  {
   "cell_type": "markdown",
   "metadata": {
    "collapsed": true
   },
   "source": [
    "From the above histogram, we can see that the pearson correlation coefficients\n",
    "generated from simulation lie around 0 which indicates there is no correlation\n",
    "So answer the second part of the second question, the data points are indeed\n",
    "independent."
   ]
  },
  {
   "cell_type": "markdown",
   "metadata": {
    "collapsed": true
   },
   "source": [
    "Question 3: Is the true population mean really 98.6?\n",
    "Would you use a one sample test or two sample test? Why?\n",
    "Answer: I would use a one sample test, since we only know the population mean\n",
    "but not the data and we are comparing our data to a single value. A one sample test\n",
    "is reasonable.\n",
    "In this situation, is it appropriate to use the t or z statistic?\n",
    "Answer, since we never learned z test or t test, I will test this hypothesis using hack statistics\n",
    "by doing bootstrapping of the sample data"
   ]
  },
  {
   "cell_type": "code",
   "execution_count": 10,
   "metadata": {},
   "outputs": [
    {
     "name": "stdout",
     "output_type": "stream",
     "text": [
      "The p value is:  0.4927\n"
     ]
    }
   ],
   "source": [
    "#first shift the sample mean to the theoretical mean of 98.6. Our null hypothesis is:\n",
    "#our sample mean is no different from 98.6\n",
    "temp_new=temp-np.mean(temp)+98.6\n",
    "#initiate empty array to store bootstrapped sample mean\n",
    "temp_new_rep=np.empty(10000)\n",
    "for i in range(10000):\n",
    "    #do bootstrap to randomly select data from original sample\n",
    "    temp_new_bs=np.random.choice(temp_new, len(temp_new))\n",
    "    #then calculate the average which we will use as our test statistic\n",
    "    temp_new_bs_mean=np.mean(temp_new_bs)\n",
    "    temp_new_rep[i]=temp_new_bs_mean\n",
    "#get our p values by summing all new mean values that are less than the original mean\n",
    "p_val=np.sum(temp_new_rep<np.mean(temp_new))/10000\n",
    "print('The p value is: ', p_val)"
   ]
  },
  {
   "cell_type": "markdown",
   "metadata": {},
   "source": [
    "Since the p value is pretty large, so we can safely accept our null hypothesis: our sample mean is really no different from 98.6"
   ]
  },
  {
   "cell_type": "markdown",
   "metadata": {},
   "source": [
    "I will skip question #4 since it's asking about z and t tests again."
   ]
  },
  {
   "cell_type": "markdown",
   "metadata": {},
   "source": [
    "Question #5: at what level should we consider someone's temperature to be abnormal?\n",
    "We can look at the 95% confidence level of our sample,  temperature outside the 95% confidence level can be considered abnormal"
   ]
  },
  {
   "cell_type": "code",
   "execution_count": 11,
   "metadata": {},
   "outputs": [
    {
     "data": {
      "image/png": "[encoded data removed]",
      "text/plain": [
       "<matplotlib.figure.Figure at 0x29f1d92c550>"
      ]
     },
     "metadata": {},
     "output_type": "display_data"
    }
   ],
   "source": [
    "#let's do bootstrapping again with our original sample but without changing the mean\n",
    "temp_bs_rep=np.empty(10000)\n",
    "for i in range(10000):\n",
    "    temp_bs=np.random.choice(temp, len(temp))\n",
    "    temp_bs_mean=np.mean(temp_bs)\n",
    "    temp_bs_rep[i]=temp_bs_mean\n",
    "#first look at the distribution\n",
    "sns.distplot(temp_bs_rep)\n",
    "plt.xlabel('Sample mean')\n",
    "plt.ylabel('Percent')\n",
    "plt.show()"
   ]
  },
  {
   "cell_type": "code",
   "execution_count": 15,
   "metadata": {},
   "outputs": [
    {
     "name": "stdout",
     "output_type": "stream",
     "text": [
      "95% confidence intervals are:  [ 98.12307692  98.37461538]\n"
     ]
    }
   ],
   "source": [
    "#Now show the 95% confidence intervals\n",
    "conf_95=np.percentile(temp_bs_rep, [2.5, 97.5])\n",
    "print('95% confidence intervals are: ', conf_95)"
   ]
  },
  {
   "cell_type": "markdown",
   "metadata": {},
   "source": [
    "For a data point to be abnormal, it is usually 2 or 3 standard deviations away from the mean. So we can use the 95% confidence interval and add 2 or 3 \n",
    "standard deviations to the boundaries and see which values are outside that range"
   ]
  },
  {
   "cell_type": "code",
   "execution_count": 17,
   "metadata": {},
   "outputs": [
    {
     "name": "stdout",
     "output_type": "stream",
     "text": [
      "Normal range 1:  [ 96.66236137  99.83533094]\n",
      "Normal range 2:  [  95.93200359  100.56568872]\n"
     ]
    }
   ],
   "source": [
    "#Calcuate boundaries for 'normal values'\n",
    "mean_plus_2stds=np.array([conf_95[0]-2*np.std(temp), conf_95[1]+2*np.std(temp)])\n",
    "mean_plus_3stds=np.array([conf_95[0]-3*np.std(temp), conf_95[1]+3*np.std(temp)])\n",
    "print('Normal range 1: ', mean_plus_2stds)\n",
    "print('Normal range 2: ', mean_plus_3stds)"
   ]
  },
  {
   "cell_type": "markdown",
   "metadata": {},
   "source": [
    "We can then filter values that are outside each range to label them as 'abnormal'"
   ]
  },
  {
   "cell_type": "code",
   "execution_count": 30,
   "metadata": {},
   "outputs": [
    {
     "name": "stdout",
     "output_type": "stream",
     "text": [
      "Abnormal values set 1:  [  96.4   96.3  100.    99.9  100.8]\n",
      "Abnormal values set 2:  [ 100.8]\n"
     ]
    }
   ],
   "source": [
    "abnormal_set_1=pd.concat([temp[temp<mean_plus_2stds[0]], temp[temp>mean_plus_2stds[1]]])\n",
    "abnormal_set_2=pd.concat([temp[temp<mean_plus_3stds[0]], temp[temp>mean_plus_3stds[1]]])\n",
    "print('Abnormal values set 1: ', abnormal_set_1.values)\n",
    "print('Abnormal values set 2: ', abnormal_set_2.values)"
   ]
  },
  {
   "cell_type": "markdown",
   "metadata": {},
   "source": [
    "The above values would be considered abnormal by their distance to the 95% confidence intervals of the sample mean"
   ]
  },
  {
   "cell_type": "markdown",
   "metadata": {},
   "source": [
    "Question #6: Is there a significant difference between male and female in normal temperatures?\n",
    "For this question, we will do a two sample test since we have one sample for each sex"
   ]
  },
  {
   "cell_type": "code",
   "execution_count": 42,
   "metadata": {},
   "outputs": [
    {
     "name": "stdout",
     "output_type": "stream",
     "text": [
      "male mean value:  98.1046153846154\n",
      "female mean value:  98.39384615384613\n",
      "Difference of the sample means:  0.289230769230727\n"
     ]
    }
   ],
   "source": [
    "#first get the two data sets out of the original data frame\n",
    "male=df[df['gender']=='M']['temperature']\n",
    "female=df[df['gender']=='F']['temperature']\n",
    "#calculate their samples means and sample mean difference\n",
    "diff_ori=np.mean(female)-np.mean(male)\n",
    "print('male mean value: ', np.mean(male))\n",
    "print('female mean value: ', np.mean(female))\n",
    "print('Difference of the sample means: ', diff_ori)"
   ]
  },
  {
   "cell_type": "markdown",
   "metadata": {},
   "source": [
    "Their means are very close. Let's look at their distribution"
   ]
  },
  {
   "cell_type": "code",
   "execution_count": 41,
   "metadata": {},
   "outputs": [
    {
     "data": {
      "image/png": "[encoded data removed]",
      "text/plain": [
       "<matplotlib.figure.Figure at 0x29f1dfb1c18>"
      ]
     },
     "metadata": {},
     "output_type": "display_data"
    }
   ],
   "source": [
    "sns.distplot(male)\n",
    "sns.distplot(female)\n",
    "plt.legend(('male', 'female'))\n",
    "plt.show()"
   ]
  },
  {
   "cell_type": "markdown",
   "metadata": {},
   "source": [
    "The distributions look a little different. So to test whether male and female have different normal values,  our null hypothesis will be that male and female \n",
    "normal values are the same. The test will be a two sample test since we have data for each sample. \n",
    "\n",
    "We will do permutation of the combined data set and then randomly assign the first 65 values to male and the next 65 to female and then caculate the \n",
    "sample mean difference each time. The test statistic will be the sample mean difference. The p value will be the fraction of sample means generated \n",
    "greater than the original sample mean difference."
   ]
  },
  {
   "cell_type": "code",
   "execution_count": 46,
   "metadata": {},
   "outputs": [
    {
     "name": "stdout",
     "output_type": "stream",
     "text": [
      "p value is:  0.00417446153846\n"
     ]
    }
   ],
   "source": [
    "#initialize an array to hold all replicates of sample mean difference\n",
    "diff_perm=np.empty(10000)\n",
    "for i in range(10000):\n",
    "    temp_perm=np.random.permutation(temp)\n",
    "    temp_perm_male=temp_perm[:65]\n",
    "    temp_perm_female=temp_perm[65:]\n",
    "    temp_perm_diff=np.mean(temp_perm_female)-np.mean(temp_perm_male)\n",
    "    diff_perm[i]=temp_perm_diff\n",
    "p_val_2=np.sum(diff_perm[diff_perm>diff_ori])/10000\n",
    "print('p value is: ', p_val_2)"
   ]
  },
  {
   "cell_type": "markdown",
   "metadata": {
    "collapsed": true
   },
   "source": [
    "The p value is very small (<0.01) so we can safely reject our null hypothesis. This means that there is a difference between male and female body \n",
    "temperatures. They are not the same"
   ]
  }
 ],
 "metadata": {
  "kernelspec": {
   "display_name": "Python 3",
   "language": "python",
   "name": "python3"
  },
  "language_info": {
   "codemirror_mode": {
    "name": "ipython",
    "version": 3
   },
   "file_extension": ".py",
   "mimetype": "text/x-python",
   "name": "python",
   "nbconvert_exporter": "python",
   "pygments_lexer": "ipython3",
   "version": "3.6.3"
  }
 },
 "nbformat": 4,
 "nbformat_minor": 1
}
